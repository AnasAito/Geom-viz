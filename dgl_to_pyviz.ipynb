{
  "nbformat": 4,
  "nbformat_minor": 0,
  "metadata": {
    "colab": {
      "name": "geom_viz.ipynb",
      "provenance": [],
      "collapsed_sections": [],
      "authorship_tag": "ABX9TyP9gRcRiAlu4z3kvFjlHWk/",
      "include_colab_link": true
    },
    "kernelspec": {
      "name": "python3",
      "display_name": "Python 3"
    },
    "language_info": {
      "name": "python"
    }
  },
  "cells": [
    {
      "cell_type": "markdown",
      "metadata": {
        "id": "view-in-github",
        "colab_type": "text"
      },
      "source": [
        "<a href=\"https://colab.research.google.com/github/AnasAito/Geom-viz/blob/master/dgl_to_pyviz.ipynb\" target=\"_parent\"><img src=\"https://colab.research.google.com/assets/colab-badge.svg\" alt=\"Open In Colab\"/></a>"
      ]
    },
    {
      "cell_type": "code",
      "metadata": {
        "colab": {
          "base_uri": "https://localhost:8080/"
        },
        "id": "fELoDYCDspst",
        "outputId": "c3693400-f934-4894-8cd0-9a342d7252a6"
      },
      "source": [
        "## libraries \n",
        "!pip install dgl\n",
        "!pip install pyvis"
      ],
      "execution_count": 32,
      "outputs": [
        {
          "output_type": "stream",
          "text": [
            "Requirement already satisfied: dgl in /usr/local/lib/python3.7/dist-packages (0.6.1)\n",
            "Requirement already satisfied: scipy>=1.1.0 in /usr/local/lib/python3.7/dist-packages (from dgl) (1.4.1)\n",
            "Requirement already satisfied: networkx>=2.1 in /usr/local/lib/python3.7/dist-packages (from dgl) (2.5.1)\n",
            "Requirement already satisfied: numpy>=1.14.0 in /usr/local/lib/python3.7/dist-packages (from dgl) (1.19.5)\n",
            "Requirement already satisfied: requests>=2.19.0 in /usr/local/lib/python3.7/dist-packages (from dgl) (2.23.0)\n",
            "Requirement already satisfied: decorator<5,>=4.3 in /usr/local/lib/python3.7/dist-packages (from networkx>=2.1->dgl) (4.4.2)\n",
            "Requirement already satisfied: chardet<4,>=3.0.2 in /usr/local/lib/python3.7/dist-packages (from requests>=2.19.0->dgl) (3.0.4)\n",
            "Requirement already satisfied: urllib3!=1.25.0,!=1.25.1,<1.26,>=1.21.1 in /usr/local/lib/python3.7/dist-packages (from requests>=2.19.0->dgl) (1.24.3)\n",
            "Requirement already satisfied: idna<3,>=2.5 in /usr/local/lib/python3.7/dist-packages (from requests>=2.19.0->dgl) (2.10)\n",
            "Requirement already satisfied: certifi>=2017.4.17 in /usr/local/lib/python3.7/dist-packages (from requests>=2.19.0->dgl) (2020.12.5)\n",
            "Collecting pyvis\n",
            "  Downloading https://files.pythonhosted.org/packages/07/d1/e87844ec86e96df7364f21af2263ad6030c0d727660ae89935c7af56a540/pyvis-0.1.9-py3-none-any.whl\n",
            "Requirement already satisfied: networkx>=1.11 in /usr/local/lib/python3.7/dist-packages (from pyvis) (2.5.1)\n",
            "Collecting jsonpickle>=1.4.1\n",
            "  Downloading https://files.pythonhosted.org/packages/bb/1a/f2db026d4d682303793559f1c2bb425ba3ec0d6fd7ac63397790443f2461/jsonpickle-2.0.0-py2.py3-none-any.whl\n",
            "Requirement already satisfied: jinja2>=2.9.6 in /usr/local/lib/python3.7/dist-packages (from pyvis) (2.11.3)\n",
            "Requirement already satisfied: ipython>=5.3.0 in /usr/local/lib/python3.7/dist-packages (from pyvis) (5.5.0)\n",
            "Requirement already satisfied: decorator<5,>=4.3 in /usr/local/lib/python3.7/dist-packages (from networkx>=1.11->pyvis) (4.4.2)\n",
            "Requirement already satisfied: importlib-metadata; python_version < \"3.8\" in /usr/local/lib/python3.7/dist-packages (from jsonpickle>=1.4.1->pyvis) (3.10.1)\n",
            "Requirement already satisfied: MarkupSafe>=0.23 in /usr/local/lib/python3.7/dist-packages (from jinja2>=2.9.6->pyvis) (1.1.1)\n",
            "Requirement already satisfied: pickleshare in /usr/local/lib/python3.7/dist-packages (from ipython>=5.3.0->pyvis) (0.7.5)\n",
            "Requirement already satisfied: prompt-toolkit<2.0.0,>=1.0.4 in /usr/local/lib/python3.7/dist-packages (from ipython>=5.3.0->pyvis) (1.0.18)\n",
            "Requirement already satisfied: traitlets>=4.2 in /usr/local/lib/python3.7/dist-packages (from ipython>=5.3.0->pyvis) (5.0.5)\n",
            "Requirement already satisfied: setuptools>=18.5 in /usr/local/lib/python3.7/dist-packages (from ipython>=5.3.0->pyvis) (56.1.0)\n",
            "Requirement already satisfied: pexpect; sys_platform != \"win32\" in /usr/local/lib/python3.7/dist-packages (from ipython>=5.3.0->pyvis) (4.8.0)\n",
            "Requirement already satisfied: pygments in /usr/local/lib/python3.7/dist-packages (from ipython>=5.3.0->pyvis) (2.6.1)\n",
            "Requirement already satisfied: simplegeneric>0.8 in /usr/local/lib/python3.7/dist-packages (from ipython>=5.3.0->pyvis) (0.8.1)\n",
            "Requirement already satisfied: zipp>=0.5 in /usr/local/lib/python3.7/dist-packages (from importlib-metadata; python_version < \"3.8\"->jsonpickle>=1.4.1->pyvis) (3.4.1)\n",
            "Requirement already satisfied: typing-extensions>=3.6.4; python_version < \"3.8\" in /usr/local/lib/python3.7/dist-packages (from importlib-metadata; python_version < \"3.8\"->jsonpickle>=1.4.1->pyvis) (3.7.4.3)\n",
            "Requirement already satisfied: wcwidth in /usr/local/lib/python3.7/dist-packages (from prompt-toolkit<2.0.0,>=1.0.4->ipython>=5.3.0->pyvis) (0.2.5)\n",
            "Requirement already satisfied: six>=1.9.0 in /usr/local/lib/python3.7/dist-packages (from prompt-toolkit<2.0.0,>=1.0.4->ipython>=5.3.0->pyvis) (1.15.0)\n",
            "Requirement already satisfied: ipython-genutils in /usr/local/lib/python3.7/dist-packages (from traitlets>=4.2->ipython>=5.3.0->pyvis) (0.2.0)\n",
            "Requirement already satisfied: ptyprocess>=0.5 in /usr/local/lib/python3.7/dist-packages (from pexpect; sys_platform != \"win32\"->ipython>=5.3.0->pyvis) (0.7.0)\n",
            "Installing collected packages: jsonpickle, pyvis\n",
            "Successfully installed jsonpickle-2.0.0 pyvis-0.1.9\n"
          ],
          "name": "stdout"
        }
      ]
    },
    {
      "cell_type": "code",
      "metadata": {
        "colab": {
          "base_uri": "https://localhost:8080/"
        },
        "id": "aLLSheY4ssiW",
        "outputId": "a6b5acc9-7ae0-47e2-b990-a9f930d07bfd"
      },
      "source": [
        "## vanilla CGN network \n",
        "import dgl\n",
        "import dgl.function as fn\n",
        "import torch as th\n",
        "import torch.nn as nn\n",
        "import torch.nn.functional as F\n",
        "from dgl import DGLGraph\n",
        "\n",
        "## msg passing function \n",
        "# msg preparation \n",
        "gcn_msg = fn.copy_src(src='h', out='m')\n",
        "#msg aggregation \n",
        "gcn_reduce = fn.sum(msg='m', out='h')\n",
        "\n",
        "class GCNLayer(nn.Module):\n",
        "    def __init__(self, in_feats, out_feats):\n",
        "        super(GCNLayer, self).__init__()\n",
        "        self.linear = nn.Linear(in_feats, out_feats)\n",
        "\n",
        "    def forward(self, g, feature):\n",
        "        # Creating a local scope so that all the stored ndata and edata\n",
        "        # (such as the `'h'` ndata below) are automatically popped out\n",
        "        # when the scope exits.\n",
        "        with g.local_scope():\n",
        "          ## init h feature vector with feat from input of layer\n",
        "            g.ndata['h'] = feature\n",
        "            ## update feat vectors \n",
        "            g.update_all(gcn_msg, gcn_reduce)\n",
        "            ## extract h feat vectors \n",
        "            h = g.ndata['h']\n",
        "            ## projection using linear layer \n",
        "            return self.linear(h)\n",
        "\n",
        "class Net(nn.Module):\n",
        "    def __init__(self):\n",
        "        super(Net, self).__init__()\n",
        "        self.layer1 = GCNLayer(1433, 16)\n",
        "        self.layer2 = GCNLayer(16, 7)\n",
        "\n",
        "    def forward(self, g, features):\n",
        "        x = F.relu(self.layer1(g, features))\n",
        "        x = self.layer2(g, x)\n",
        "        return x\n",
        "net = Net()\n",
        "print(net)"
      ],
      "execution_count": 43,
      "outputs": [
        {
          "output_type": "stream",
          "text": [
            "Net(\n",
            "  (layer1): GCNLayer(\n",
            "    (linear): Linear(in_features=1433, out_features=16, bias=True)\n",
            "  )\n",
            "  (layer2): GCNLayer(\n",
            "    (linear): Linear(in_features=16, out_features=7, bias=True)\n",
            "  )\n",
            ")\n"
          ],
          "name": "stdout"
        }
      ]
    },
    {
      "cell_type": "code",
      "metadata": {
        "id": "t1hevpPWs7-j"
      },
      "source": [
        "## simple train and evaluate loops \n",
        "from dgl.data import citation_graph as citegrh\n",
        "import networkx as nx\n",
        "from dgl.data import citation_graph as citegrh\n",
        "import networkx as nx\n",
        "def load_cora_data():\n",
        "    data = citegrh.load_cora()\n",
        "    features = th.FloatTensor(data.features)\n",
        "    labels = th.LongTensor(data.labels)\n",
        "    train_mask = th.BoolTensor(data.train_mask)\n",
        "    test_mask = th.BoolTensor(data.test_mask)\n",
        "    g = DGLGraph(data.graph)\n",
        "    return g, features, labels, train_mask, test_mask\n",
        "\n",
        "def evaluate(model, g, features, labels, mask):\n",
        "    model.eval()\n",
        "    with th.no_grad():\n",
        "        logits = model(g, features)\n",
        "        logits = logits[mask]\n",
        "        labels = labels[mask]\n",
        "        _, indices = th.max(logits, dim=1)\n",
        "        correct = th.sum(indices == labels)\n",
        "        return correct.item() * 1.0 / len(labels)\n",
        "\n"
      ],
      "execution_count": 9,
      "outputs": []
    },
    {
      "cell_type": "code",
      "metadata": {
        "colab": {
          "base_uri": "https://localhost:8080/"
        },
        "id": "VUqC_2THtZ1C",
        "outputId": "b7c5632d-f061-423d-d8db-ddd9d396448e"
      },
      "source": [
        "import time\n",
        "import numpy as np\n",
        "g, features, labels, train_mask, test_mask = load_cora_data()\n",
        "net = Net()\n",
        "optimizer = th.optim.Adam(net.parameters(), lr=1e-2)\n",
        "\n",
        "dur = []\n",
        "for epoch in range(50):\n",
        "    if epoch >=3:\n",
        "        t0 = time.time()\n",
        "\n",
        "    net.train()\n",
        "    logits = net(g, features)\n",
        "    logp = F.log_softmax(logits, 1)\n",
        "    loss = F.nll_loss(logp[train_mask], labels[train_mask])\n",
        "\n",
        "    optimizer.zero_grad()\n",
        "    loss.backward()\n",
        "    optimizer.step()\n",
        "\n",
        "    if epoch >=3:\n",
        "        dur.append(time.time() - t0)\n",
        "\n",
        "    acc = evaluate(net, g, features, labels, test_mask)\n",
        "    acc_train = evaluate(net, g, features, labels, train_mask)\n",
        "    print(\"Epoch {:05d} | Loss {:.4f} | Test Acc {:.4f} |Train Acc {:.4f} | Time(s) {:.4f}\".format(\n",
        "            epoch, loss.item(), acc,acc_train, np.mean(dur)))"
      ],
      "execution_count": 73,
      "outputs": [
        {
          "output_type": "stream",
          "text": [
            "  NumNodes: 2708\n",
            "  NumEdges: 10556\n",
            "  NumFeats: 1433\n",
            "  NumClasses: 7\n",
            "  NumTrainingSamples: 140\n",
            "  NumValidationSamples: 500\n",
            "  NumTestSamples: 1000\n",
            "Done loading data from cached files.\n",
            "Epoch 00000 | Loss 1.9434 | Test Acc 0.1670 |Train Acc 0.2786 | Time(s) nan\n"
          ],
          "name": "stdout"
        },
        {
          "output_type": "stream",
          "text": [
            "/usr/local/lib/python3.7/dist-packages/dgl/data/utils.py:285: UserWarning: Property dataset.feat will be deprecated, please use g.ndata['feat'] instead.\n",
            "  warnings.warn('Property {} will be deprecated, please use {} instead.'.format(old, new))\n",
            "/usr/local/lib/python3.7/dist-packages/dgl/data/utils.py:285: UserWarning: Property dataset.label will be deprecated, please use g.ndata['label'] instead.\n",
            "  warnings.warn('Property {} will be deprecated, please use {} instead.'.format(old, new))\n",
            "/usr/local/lib/python3.7/dist-packages/dgl/data/utils.py:285: UserWarning: Property dataset.train_mask will be deprecated, please use g.ndata['train_mask'] instead.\n",
            "  warnings.warn('Property {} will be deprecated, please use {} instead.'.format(old, new))\n",
            "/usr/local/lib/python3.7/dist-packages/dgl/data/utils.py:285: UserWarning: Property dataset.test_mask will be deprecated, please use g.ndata['test_mask'] instead.\n",
            "  warnings.warn('Property {} will be deprecated, please use {} instead.'.format(old, new))\n",
            "/usr/local/lib/python3.7/dist-packages/dgl/data/utils.py:285: UserWarning: Property dataset.graph will be deprecated, please use dataset[0] instead.\n",
            "  warnings.warn('Property {} will be deprecated, please use {} instead.'.format(old, new))\n",
            "/usr/local/lib/python3.7/dist-packages/dgl/base.py:45: DGLWarning: Recommend creating graphs by `dgl.graph(data)` instead of `dgl.DGLGraph(data)`.\n",
            "  return warnings.warn(message, category=category, stacklevel=1)\n",
            "/usr/local/lib/python3.7/dist-packages/numpy/core/fromnumeric.py:3373: RuntimeWarning: Mean of empty slice.\n",
            "  out=out, **kwargs)\n",
            "/usr/local/lib/python3.7/dist-packages/numpy/core/_methods.py:170: RuntimeWarning: invalid value encountered in double_scalars\n",
            "  ret = ret.dtype.type(ret / rcount)\n"
          ],
          "name": "stderr"
        },
        {
          "output_type": "stream",
          "text": [
            "Epoch 00001 | Loss 1.8059 | Test Acc 0.2190 |Train Acc 0.3714 | Time(s) nan\n",
            "Epoch 00002 | Loss 1.6806 | Test Acc 0.3280 |Train Acc 0.5071 | Time(s) nan\n",
            "Epoch 00003 | Loss 1.5690 | Test Acc 0.4430 |Train Acc 0.6071 | Time(s) 0.0398\n",
            "Epoch 00004 | Loss 1.4701 | Test Acc 0.5250 |Train Acc 0.6786 | Time(s) 0.0407\n",
            "Epoch 00005 | Loss 1.3824 | Test Acc 0.5720 |Train Acc 0.7214 | Time(s) 0.0394\n",
            "Epoch 00006 | Loss 1.3044 | Test Acc 0.5930 |Train Acc 0.7429 | Time(s) 0.0407\n",
            "Epoch 00007 | Loss 1.2337 | Test Acc 0.5940 |Train Acc 0.7429 | Time(s) 0.0399\n",
            "Epoch 00008 | Loss 1.1650 | Test Acc 0.5980 |Train Acc 0.7786 | Time(s) 0.0393\n",
            "Epoch 00009 | Loss 1.0977 | Test Acc 0.6140 |Train Acc 0.8143 | Time(s) 0.0395\n",
            "Epoch 00010 | Loss 1.0296 | Test Acc 0.6350 |Train Acc 0.8286 | Time(s) 0.0394\n",
            "Epoch 00011 | Loss 0.9606 | Test Acc 0.6490 |Train Acc 0.8357 | Time(s) 0.0397\n",
            "Epoch 00012 | Loss 0.8936 | Test Acc 0.6500 |Train Acc 0.8429 | Time(s) 0.0397\n",
            "Epoch 00013 | Loss 0.8307 | Test Acc 0.6570 |Train Acc 0.8714 | Time(s) 0.0396\n",
            "Epoch 00014 | Loss 0.7726 | Test Acc 0.6600 |Train Acc 0.8857 | Time(s) 0.0394\n",
            "Epoch 00015 | Loss 0.7192 | Test Acc 0.6560 |Train Acc 0.9000 | Time(s) 0.0392\n",
            "Epoch 00016 | Loss 0.6703 | Test Acc 0.6550 |Train Acc 0.9071 | Time(s) 0.0398\n",
            "Epoch 00017 | Loss 0.6256 | Test Acc 0.6620 |Train Acc 0.9214 | Time(s) 0.0396\n",
            "Epoch 00018 | Loss 0.5845 | Test Acc 0.6620 |Train Acc 0.9214 | Time(s) 0.0394\n",
            "Epoch 00019 | Loss 0.5466 | Test Acc 0.6640 |Train Acc 0.9214 | Time(s) 0.0398\n",
            "Epoch 00020 | Loss 0.5122 | Test Acc 0.6730 |Train Acc 0.9214 | Time(s) 0.0396\n",
            "Epoch 00021 | Loss 0.4806 | Test Acc 0.6790 |Train Acc 0.9286 | Time(s) 0.0395\n",
            "Epoch 00022 | Loss 0.4514 | Test Acc 0.6820 |Train Acc 0.9429 | Time(s) 0.0398\n",
            "Epoch 00023 | Loss 0.4244 | Test Acc 0.6850 |Train Acc 0.9500 | Time(s) 0.0398\n",
            "Epoch 00024 | Loss 0.3994 | Test Acc 0.6910 |Train Acc 0.9571 | Time(s) 0.0397\n",
            "Epoch 00025 | Loss 0.3761 | Test Acc 0.6930 |Train Acc 0.9643 | Time(s) 0.0397\n",
            "Epoch 00026 | Loss 0.3544 | Test Acc 0.6980 |Train Acc 0.9643 | Time(s) 0.0398\n",
            "Epoch 00027 | Loss 0.3340 | Test Acc 0.7010 |Train Acc 0.9643 | Time(s) 0.0397\n",
            "Epoch 00028 | Loss 0.3151 | Test Acc 0.7030 |Train Acc 0.9643 | Time(s) 0.0397\n",
            "Epoch 00029 | Loss 0.2973 | Test Acc 0.7030 |Train Acc 0.9714 | Time(s) 0.0396\n",
            "Epoch 00030 | Loss 0.2807 | Test Acc 0.6990 |Train Acc 0.9714 | Time(s) 0.0396\n",
            "Epoch 00031 | Loss 0.2652 | Test Acc 0.6990 |Train Acc 0.9714 | Time(s) 0.0395\n",
            "Epoch 00032 | Loss 0.2507 | Test Acc 0.6980 |Train Acc 0.9786 | Time(s) 0.0394\n",
            "Epoch 00033 | Loss 0.2372 | Test Acc 0.7010 |Train Acc 0.9786 | Time(s) 0.0395\n",
            "Epoch 00034 | Loss 0.2245 | Test Acc 0.7040 |Train Acc 0.9786 | Time(s) 0.0394\n",
            "Epoch 00035 | Loss 0.2127 | Test Acc 0.7050 |Train Acc 0.9786 | Time(s) 0.0394\n",
            "Epoch 00036 | Loss 0.2016 | Test Acc 0.7010 |Train Acc 0.9857 | Time(s) 0.0395\n",
            "Epoch 00037 | Loss 0.1911 | Test Acc 0.7030 |Train Acc 0.9857 | Time(s) 0.0395\n",
            "Epoch 00038 | Loss 0.1814 | Test Acc 0.7030 |Train Acc 0.9929 | Time(s) 0.0395\n",
            "Epoch 00039 | Loss 0.1722 | Test Acc 0.7010 |Train Acc 0.9929 | Time(s) 0.0395\n",
            "Epoch 00040 | Loss 0.1637 | Test Acc 0.7010 |Train Acc 0.9929 | Time(s) 0.0395\n",
            "Epoch 00041 | Loss 0.1557 | Test Acc 0.7010 |Train Acc 0.9929 | Time(s) 0.0395\n",
            "Epoch 00042 | Loss 0.1483 | Test Acc 0.7010 |Train Acc 0.9929 | Time(s) 0.0394\n",
            "Epoch 00043 | Loss 0.1413 | Test Acc 0.7010 |Train Acc 0.9929 | Time(s) 0.0394\n",
            "Epoch 00044 | Loss 0.1347 | Test Acc 0.7040 |Train Acc 0.9929 | Time(s) 0.0394\n",
            "Epoch 00045 | Loss 0.1286 | Test Acc 0.7030 |Train Acc 0.9929 | Time(s) 0.0394\n",
            "Epoch 00046 | Loss 0.1229 | Test Acc 0.7020 |Train Acc 0.9929 | Time(s) 0.0394\n",
            "Epoch 00047 | Loss 0.1176 | Test Acc 0.7010 |Train Acc 0.9929 | Time(s) 0.0393\n",
            "Epoch 00048 | Loss 0.1126 | Test Acc 0.7030 |Train Acc 0.9929 | Time(s) 0.0393\n",
            "Epoch 00049 | Loss 0.1079 | Test Acc 0.7020 |Train Acc 0.9929 | Time(s) 0.0393\n"
          ],
          "name": "stdout"
        }
      ]
    },
    {
      "cell_type": "code",
      "metadata": {
        "colab": {
          "base_uri": "https://localhost:8080/",
          "height": 378
        },
        "id": "hXW5pG-i7B80",
        "outputId": "0d8ab10e-40e1-4f50-f09d-9918c526f017"
      },
      "source": [
        "def has_dst_one(edges):\n",
        "  print(edges.edges())\n",
        "\n",
        "g.filter_edges(has_dst_one)"
      ],
      "execution_count": 96,
      "outputs": [
        {
          "output_type": "stream",
          "text": [
            "(tensor([   0,    0,    0,  ..., 2707, 2707, 2707]), tensor([ 633, 1862, 2582,  ...,  598, 1473, 2706]), tensor([    0,     1,     2,  ..., 10553, 10554, 10555]))\n"
          ],
          "name": "stdout"
        },
        {
          "output_type": "error",
          "ename": "AttributeError",
          "evalue": "ignored",
          "traceback": [
            "\u001b[0;31m---------------------------------------------------------------------------\u001b[0m",
            "\u001b[0;31mAttributeError\u001b[0m                            Traceback (most recent call last)",
            "\u001b[0;32m<ipython-input-96-cf301c5c86a3>\u001b[0m in \u001b[0;36m<module>\u001b[0;34m()\u001b[0m\n\u001b[1;32m      2\u001b[0m   \u001b[0mprint\u001b[0m\u001b[0;34m(\u001b[0m\u001b[0medges\u001b[0m\u001b[0;34m.\u001b[0m\u001b[0medges\u001b[0m\u001b[0;34m(\u001b[0m\u001b[0;34m)\u001b[0m\u001b[0;34m)\u001b[0m\u001b[0;34m\u001b[0m\u001b[0;34m\u001b[0m\u001b[0m\n\u001b[1;32m      3\u001b[0m \u001b[0;34m\u001b[0m\u001b[0m\n\u001b[0;32m----> 4\u001b[0;31m \u001b[0mg\u001b[0m\u001b[0;34m.\u001b[0m\u001b[0mfilter_edges\u001b[0m\u001b[0;34m(\u001b[0m\u001b[0mhas_dst_one\u001b[0m\u001b[0;34m)\u001b[0m\u001b[0;34m\u001b[0m\u001b[0;34m\u001b[0m\u001b[0m\n\u001b[0m",
            "\u001b[0;32m/usr/local/lib/python3.7/dist-packages/dgl/heterograph.py\u001b[0m in \u001b[0;36mfilter_edges\u001b[0;34m(self, predicate, edges, etype)\u001b[0m\n\u001b[1;32m   5098\u001b[0m \u001b[0;34m\u001b[0m\u001b[0m\n\u001b[1;32m   5099\u001b[0m         \u001b[0;32mwith\u001b[0m \u001b[0mself\u001b[0m\u001b[0;34m.\u001b[0m\u001b[0mlocal_scope\u001b[0m\u001b[0;34m(\u001b[0m\u001b[0;34m)\u001b[0m\u001b[0;34m:\u001b[0m\u001b[0;34m\u001b[0m\u001b[0;34m\u001b[0m\u001b[0m\n\u001b[0;32m-> 5100\u001b[0;31m             \u001b[0mself\u001b[0m\u001b[0;34m.\u001b[0m\u001b[0mapply_edges\u001b[0m\u001b[0;34m(\u001b[0m\u001b[0;32mlambda\u001b[0m \u001b[0mebatch\u001b[0m\u001b[0;34m:\u001b[0m \u001b[0;34m{\u001b[0m\u001b[0;34m'_mask'\u001b[0m \u001b[0;34m:\u001b[0m \u001b[0mpredicate\u001b[0m\u001b[0;34m(\u001b[0m\u001b[0mebatch\u001b[0m\u001b[0;34m)\u001b[0m\u001b[0;34m}\u001b[0m\u001b[0;34m,\u001b[0m \u001b[0medges\u001b[0m\u001b[0;34m,\u001b[0m \u001b[0metype\u001b[0m\u001b[0;34m)\u001b[0m\u001b[0;34m\u001b[0m\u001b[0;34m\u001b[0m\u001b[0m\n\u001b[0m\u001b[1;32m   5101\u001b[0m             \u001b[0metype\u001b[0m \u001b[0;34m=\u001b[0m \u001b[0mself\u001b[0m\u001b[0;34m.\u001b[0m\u001b[0mcanonical_etypes\u001b[0m\u001b[0;34m[\u001b[0m\u001b[0;36m0\u001b[0m\u001b[0;34m]\u001b[0m \u001b[0;32mif\u001b[0m \u001b[0metype\u001b[0m \u001b[0;32mis\u001b[0m \u001b[0;32mNone\u001b[0m \u001b[0;32melse\u001b[0m \u001b[0metype\u001b[0m\u001b[0;34m\u001b[0m\u001b[0;34m\u001b[0m\u001b[0m\n\u001b[1;32m   5102\u001b[0m             \u001b[0mmask\u001b[0m \u001b[0;34m=\u001b[0m \u001b[0mself\u001b[0m\u001b[0;34m.\u001b[0m\u001b[0medges\u001b[0m\u001b[0;34m[\u001b[0m\u001b[0metype\u001b[0m\u001b[0;34m]\u001b[0m\u001b[0;34m.\u001b[0m\u001b[0mdata\u001b[0m\u001b[0;34m[\u001b[0m\u001b[0;34m'_mask'\u001b[0m\u001b[0;34m]\u001b[0m\u001b[0;34m\u001b[0m\u001b[0;34m\u001b[0m\u001b[0m\n",
            "\u001b[0;32m/usr/local/lib/python3.7/dist-packages/dgl/heterograph.py\u001b[0m in \u001b[0;36mapply_edges\u001b[0;34m(self, func, edges, etype, inplace)\u001b[0m\n\u001b[1;32m   4306\u001b[0m         \u001b[0;32melse\u001b[0m\u001b[0;34m:\u001b[0m\u001b[0;34m\u001b[0m\u001b[0;34m\u001b[0m\u001b[0m\n\u001b[1;32m   4307\u001b[0m             \u001b[0medata\u001b[0m \u001b[0;34m=\u001b[0m \u001b[0mcore\u001b[0m\u001b[0;34m.\u001b[0m\u001b[0minvoke_edge_udf\u001b[0m\u001b[0;34m(\u001b[0m\u001b[0mg\u001b[0m\u001b[0;34m,\u001b[0m \u001b[0meid\u001b[0m\u001b[0;34m,\u001b[0m \u001b[0metype\u001b[0m\u001b[0;34m,\u001b[0m \u001b[0mfunc\u001b[0m\u001b[0;34m)\u001b[0m\u001b[0;34m\u001b[0m\u001b[0;34m\u001b[0m\u001b[0m\n\u001b[0;32m-> 4308\u001b[0;31m         \u001b[0mself\u001b[0m\u001b[0;34m.\u001b[0m\u001b[0m_set_e_repr\u001b[0m\u001b[0;34m(\u001b[0m\u001b[0metid\u001b[0m\u001b[0;34m,\u001b[0m \u001b[0meid\u001b[0m\u001b[0;34m,\u001b[0m \u001b[0medata\u001b[0m\u001b[0;34m)\u001b[0m\u001b[0;34m\u001b[0m\u001b[0;34m\u001b[0m\u001b[0m\n\u001b[0m\u001b[1;32m   4309\u001b[0m \u001b[0;34m\u001b[0m\u001b[0m\n\u001b[1;32m   4310\u001b[0m     def send_and_recv(self,\n",
            "\u001b[0;32m/usr/local/lib/python3.7/dist-packages/dgl/heterograph.py\u001b[0m in \u001b[0;36m_set_e_repr\u001b[0;34m(self, etid, edges, data)\u001b[0m\n\u001b[1;32m   4080\u001b[0m             \u001b[0mnum_edges\u001b[0m \u001b[0;34m=\u001b[0m \u001b[0mlen\u001b[0m\u001b[0;34m(\u001b[0m\u001b[0meid\u001b[0m\u001b[0;34m)\u001b[0m\u001b[0;34m\u001b[0m\u001b[0;34m\u001b[0m\u001b[0m\n\u001b[1;32m   4081\u001b[0m         \u001b[0;32mfor\u001b[0m \u001b[0mkey\u001b[0m\u001b[0;34m,\u001b[0m \u001b[0mval\u001b[0m \u001b[0;32min\u001b[0m \u001b[0mdata\u001b[0m\u001b[0;34m.\u001b[0m\u001b[0mitems\u001b[0m\u001b[0;34m(\u001b[0m\u001b[0;34m)\u001b[0m\u001b[0;34m:\u001b[0m\u001b[0;34m\u001b[0m\u001b[0;34m\u001b[0m\u001b[0m\n\u001b[0;32m-> 4082\u001b[0;31m             \u001b[0mnfeats\u001b[0m \u001b[0;34m=\u001b[0m \u001b[0mF\u001b[0m\u001b[0;34m.\u001b[0m\u001b[0mshape\u001b[0m\u001b[0;34m(\u001b[0m\u001b[0mval\u001b[0m\u001b[0;34m)\u001b[0m\u001b[0;34m[\u001b[0m\u001b[0;36m0\u001b[0m\u001b[0;34m]\u001b[0m\u001b[0;34m\u001b[0m\u001b[0;34m\u001b[0m\u001b[0m\n\u001b[0m\u001b[1;32m   4083\u001b[0m             \u001b[0;32mif\u001b[0m \u001b[0mnfeats\u001b[0m \u001b[0;34m!=\u001b[0m \u001b[0mnum_edges\u001b[0m\u001b[0;34m:\u001b[0m\u001b[0;34m\u001b[0m\u001b[0;34m\u001b[0m\u001b[0m\n\u001b[1;32m   4084\u001b[0m                 raise DGLError('Expect number of features to match number of edges.'\n",
            "\u001b[0;32m/usr/local/lib/python3.7/dist-packages/dgl/backend/pytorch/tensor.py\u001b[0m in \u001b[0;36mshape\u001b[0;34m(input)\u001b[0m\n\u001b[1;32m     65\u001b[0m \u001b[0;34m\u001b[0m\u001b[0m\n\u001b[1;32m     66\u001b[0m \u001b[0;32mdef\u001b[0m \u001b[0mshape\u001b[0m\u001b[0;34m(\u001b[0m\u001b[0minput\u001b[0m\u001b[0;34m)\u001b[0m\u001b[0;34m:\u001b[0m\u001b[0;34m\u001b[0m\u001b[0;34m\u001b[0m\u001b[0m\n\u001b[0;32m---> 67\u001b[0;31m     \u001b[0;32mreturn\u001b[0m \u001b[0minput\u001b[0m\u001b[0;34m.\u001b[0m\u001b[0mshape\u001b[0m\u001b[0;34m\u001b[0m\u001b[0;34m\u001b[0m\u001b[0m\n\u001b[0m\u001b[1;32m     68\u001b[0m \u001b[0;34m\u001b[0m\u001b[0m\n\u001b[1;32m     69\u001b[0m \u001b[0;32mdef\u001b[0m \u001b[0mdtype\u001b[0m\u001b[0;34m(\u001b[0m\u001b[0minput\u001b[0m\u001b[0;34m)\u001b[0m\u001b[0;34m:\u001b[0m\u001b[0;34m\u001b[0m\u001b[0;34m\u001b[0m\u001b[0m\n",
            "\u001b[0;31mAttributeError\u001b[0m: 'NoneType' object has no attribute 'shape'"
          ]
        }
      ]
    },
    {
      "cell_type": "code",
      "metadata": {
        "colab": {
          "base_uri": "https://localhost:8080/",
          "height": 164
        },
        "id": "sY7vzalFGvEE",
        "outputId": "4e893bff-90ba-4018-ed90-7edfda51a8a5"
      },
      "source": [
        "np.array([True,False]).squeeze(1)"
      ],
      "execution_count": 100,
      "outputs": [
        {
          "output_type": "error",
          "ename": "AxisError",
          "evalue": "ignored",
          "traceback": [
            "\u001b[0;31m---------------------------------------------------------------------------\u001b[0m",
            "\u001b[0;31mAxisError\u001b[0m                                 Traceback (most recent call last)",
            "\u001b[0;32m<ipython-input-100-e56c20a52d55>\u001b[0m in \u001b[0;36m<module>\u001b[0;34m()\u001b[0m\n\u001b[0;32m----> 1\u001b[0;31m \u001b[0mnp\u001b[0m\u001b[0;34m.\u001b[0m\u001b[0marray\u001b[0m\u001b[0;34m(\u001b[0m\u001b[0;34m[\u001b[0m\u001b[0;32mTrue\u001b[0m\u001b[0;34m,\u001b[0m\u001b[0;32mFalse\u001b[0m\u001b[0;34m]\u001b[0m\u001b[0;34m)\u001b[0m\u001b[0;34m.\u001b[0m\u001b[0msqueeze\u001b[0m\u001b[0;34m(\u001b[0m\u001b[0;36m1\u001b[0m\u001b[0;34m)\u001b[0m\u001b[0;34m\u001b[0m\u001b[0;34m\u001b[0m\u001b[0m\n\u001b[0m",
            "\u001b[0;31mAxisError\u001b[0m: axis 1 is out of bounds for array of dimension 1"
          ]
        }
      ]
    },
    {
      "cell_type": "code",
      "metadata": {
        "colab": {
          "base_uri": "https://localhost:8080/",
          "height": 1000
        },
        "id": "WtGGu0y8zi6H",
        "outputId": "d7665fe0-41db-4a7d-bead-0c95a2f0db34"
      },
      "source": [
        "\n",
        "from pyvis.network import Network\n",
        "import networkx as nx\n",
        "\n",
        "\n",
        "g_render = Network('500px', '800px',notebook=True)\n",
        "\n",
        "# filter edge_data \n",
        "def get_edges(g,labels , mask , with_mask = False):\n",
        "     src,dst = g.all_edges()\n",
        "     src,dst = src.detach().numpy(),dst.detach().numpy()\n",
        "     group_list = labels.detach().numpy()\n",
        "  \n",
        "     edge_data = zip(src,dst)\n",
        "\n",
        "     if with_mask : \n",
        "       src =[]\n",
        "       dst =[]\n",
        "       filtred_nodes = g.nodes()[mask].detach().numpy()\n",
        "       for edge in edge_data : \n",
        "         #print(edge)\n",
        "         node_a,node_b = edge\n",
        "         if (node_a in filtred_nodes) or (node_b in filtred_nodes):\n",
        "           src.append(node_a)\n",
        "           dst.append(node_b)\n",
        "      \n",
        "       edge_data = zip(np.array(src),np.array(dst))\n",
        " \n",
        "     return edge_data,group_list\n",
        "\n",
        "edge_data,group_list = get_edges(g,labels , mask = train_mask , with_mask = True)\n",
        "# populates the nodes and edges data structures\n",
        "for e in edge_data:\n",
        "    src = str(e[0])\n",
        "    dst = str(e[1])\n",
        "    label_src = str(group_list[e[0]])\n",
        "    label_dst = str(group_list[e[1]])\n",
        "   # print(label_src)\n",
        "    g_render.add_node(src,  title=src, group=label_src)\n",
        "    g_render.add_node(dst,  title=dst, group=label_dst)\n",
        "    g_render.add_edge(src, dst,)\n",
        "\n",
        "g_render.show_buttons(filter_=['physics'])\n",
        "g_render.show('nx.html')\n",
        "import IPython\n",
        "IPython.display.HTML(filename='/content/nx.html')"
      ],
      "execution_count": 106,
      "outputs": [
        {
          "output_type": "execute_result",
          "data": {
            "text/html": [
              "<html>\n",
              "<head>\n",
              "<link rel=\"stylesheet\" href=\"https://cdnjs.cloudflare.com/ajax/libs/vis/4.16.1/vis.css\" type=\"text/css\" />\n",
              "<script type=\"text/javascript\" src=\"https://cdnjs.cloudflare.com/ajax/libs/vis/4.16.1/vis-network.min.js\"> </script>\n",
              "<center>\n",
              "<h1></h1>\n",
              "</center>\n",
              "\n",
              "<!-- <link rel=\"stylesheet\" href=\"../node_modules/vis/dist/vis.min.css\" type=\"text/css\" />\n",
              "<script type=\"text/javascript\" src=\"../node_modules/vis/dist/vis.js\"> </script>-->\n",
              "\n",
              "<style type=\"text/css\">\n",
              "\n",
              "        #mynetwork {\n",
              "            width: 800px;\n",
              "            height: 500px;\n",
              "            background-color: #ffffff;\n",
              "            border: 1px solid lightgray;\n",
              "            position: relative;\n",
              "            float: left;\n",
              "        }\n",
              "\n",
              "        \n",
              "        #loadingBar {\n",
              "            position:absolute;\n",
              "            top:0px;\n",
              "            left:0px;\n",
              "            width: 800px;\n",
              "            height: 500px;\n",
              "            background-color:rgba(200,200,200,0.8);\n",
              "            -webkit-transition: all 0.5s ease;\n",
              "            -moz-transition: all 0.5s ease;\n",
              "            -ms-transition: all 0.5s ease;\n",
              "            -o-transition: all 0.5s ease;\n",
              "            transition: all 0.5s ease;\n",
              "            opacity:1;\n",
              "        }\n",
              "\n",
              "        #bar {\n",
              "            position:absolute;\n",
              "            top:0px;\n",
              "            left:0px;\n",
              "            width:20px;\n",
              "            height:20px;\n",
              "            margin:auto auto auto auto;\n",
              "            border-radius:11px;\n",
              "            border:2px solid rgba(30,30,30,0.05);\n",
              "            background: rgb(0, 173, 246); /* Old browsers */\n",
              "            box-shadow: 2px 0px 4px rgba(0,0,0,0.4);\n",
              "        }\n",
              "\n",
              "        #border {\n",
              "            position:absolute;\n",
              "            top:10px;\n",
              "            left:10px;\n",
              "            width:500px;\n",
              "            height:23px;\n",
              "            margin:auto auto auto auto;\n",
              "            box-shadow: 0px 0px 4px rgba(0,0,0,0.2);\n",
              "            border-radius:10px;\n",
              "        }\n",
              "\n",
              "        #text {\n",
              "            position:absolute;\n",
              "            top:8px;\n",
              "            left:530px;\n",
              "            width:30px;\n",
              "            height:50px;\n",
              "            margin:auto auto auto auto;\n",
              "            font-size:22px;\n",
              "            color: #000000;\n",
              "        }\n",
              "\n",
              "        div.outerBorder {\n",
              "            position:relative;\n",
              "            top:400px;\n",
              "            width:600px;\n",
              "            height:44px;\n",
              "            margin:auto auto auto auto;\n",
              "            border:8px solid rgba(0,0,0,0.1);\n",
              "            background: rgb(252,252,252); /* Old browsers */\n",
              "            background: -moz-linear-gradient(top,  rgba(252,252,252,1) 0%, rgba(237,237,237,1) 100%); /* FF3.6+ */\n",
              "            background: -webkit-gradient(linear, left top, left bottom, color-stop(0%,rgba(252,252,252,1)), color-stop(100%,rgba(237,237,237,1))); /* Chrome,Safari4+ */\n",
              "            background: -webkit-linear-gradient(top,  rgba(252,252,252,1) 0%,rgba(237,237,237,1) 100%); /* Chrome10+,Safari5.1+ */\n",
              "            background: -o-linear-gradient(top,  rgba(252,252,252,1) 0%,rgba(237,237,237,1) 100%); /* Opera 11.10+ */\n",
              "            background: -ms-linear-gradient(top,  rgba(252,252,252,1) 0%,rgba(237,237,237,1) 100%); /* IE10+ */\n",
              "            background: linear-gradient(to bottom,  rgba(252,252,252,1) 0%,rgba(237,237,237,1) 100%); /* W3C */\n",
              "            filter: progid:DXImageTransform.Microsoft.gradient( startColorstr='#fcfcfc', endColorstr='#ededed',GradientType=0 ); /* IE6-9 */\n",
              "            border-radius:72px;\n",
              "            box-shadow: 0px 0px 10px rgba(0,0,0,0.2);\n",
              "        }\n",
              "        \n",
              "\n",
              "        \n",
              "        #config {\n",
              "            float: left;\n",
              "            width: 400px;\n",
              "            height: 600px;\n",
              "        }\n",
              "        \n",
              "\n",
              "        \n",
              "</style>\n",
              "\n",
              "</head>\n",
              "\n",
              "<body>\n",
              "<div id = \"mynetwork\"></div>\n",
              "\n",
              "<div id=\"loadingBar\">\n",
              "    <div class=\"outerBorder\">\n",
              "        <div id=\"text\">0%</div>\n",
              "        <div id=\"border\">\n",
              "            <div id=\"bar\"></div>\n",
              "        </div>\n",
              "    </div>\n",
              "</div>\n",
              "\n",
              "\n",
              "<div id = \"config\"></div>\n",
              "\n",
              "<script type=\"text/javascript\">\n",
              "\n",
              "    // initialize global variables.\n",
              "    var edges;\n",
              "    var nodes;\n",
              "    var network; \n",
              "    var container;\n",
              "    var options, data;\n",
              "\n",
              "    \n",
              "    // This method is responsible for drawing the graph, returns the drawn network\n",
              "    function drawGraph() {\n",
              "        var container = document.getElementById('mynetwork');\n",
              "        \n",
              "        \n",
              "\n",
              "        // parsing and collecting nodes and edges from the python\n",
              "        nodes = new vis.DataSet([{\"group\": \"3\", \"id\": \"0\", \"label\": \"0\", \"shape\": \"dot\", \"title\": \"0\"}, {\"group\": \"3\", \"id\": \"633\", \"label\": \"633\", \"shape\": \"dot\", \"title\": \"633\"}, {\"group\": \"3\", \"id\": \"1862\", \"label\": \"1862\", \"shape\": \"dot\", \"title\": \"1862\"}, {\"group\": \"3\", \"id\": \"2582\", \"label\": \"2582\", \"shape\": \"dot\", \"title\": \"2582\"}, {\"group\": \"4\", \"id\": \"1\", \"label\": \"1\", \"shape\": \"dot\", \"title\": \"1\"}, {\"group\": \"4\", \"id\": \"2\", \"label\": \"2\", \"shape\": \"dot\", \"title\": \"2\"}, {\"group\": \"4\", \"id\": \"652\", \"label\": \"652\", \"shape\": \"dot\", \"title\": \"652\"}, {\"group\": \"4\", \"id\": \"654\", \"label\": \"654\", \"shape\": \"dot\", \"title\": \"654\"}, {\"group\": \"3\", \"id\": \"1986\", \"label\": \"1986\", \"shape\": \"dot\", \"title\": \"1986\"}, {\"group\": \"3\", \"id\": \"332\", \"label\": \"332\", \"shape\": \"dot\", \"title\": \"332\"}, {\"group\": \"3\", \"id\": \"1666\", \"label\": \"1666\", \"shape\": \"dot\", \"title\": \"1666\"}, {\"group\": \"4\", \"id\": \"1454\", \"label\": \"1454\", \"shape\": \"dot\", \"title\": \"1454\"}, {\"group\": \"0\", \"id\": \"3\", \"label\": \"3\", \"shape\": \"dot\", \"title\": \"3\"}, {\"group\": \"0\", \"id\": \"2544\", \"label\": \"2544\", \"shape\": \"dot\", \"title\": \"2544\"}, {\"group\": \"3\", \"id\": \"4\", \"label\": \"4\", \"shape\": \"dot\", \"title\": \"4\"}, {\"group\": \"3\", \"id\": \"2176\", \"label\": \"2176\", \"shape\": \"dot\", \"title\": \"2176\"}, {\"group\": \"3\", \"id\": \"1016\", \"label\": \"1016\", \"shape\": \"dot\", \"title\": \"1016\"}, {\"group\": \"2\", \"id\": \"1761\", \"label\": \"1761\", \"shape\": \"dot\", \"title\": \"1761\"}, {\"group\": \"3\", \"id\": \"1256\", \"label\": \"1256\", \"shape\": \"dot\", \"title\": \"1256\"}, {\"group\": \"2\", \"id\": \"2175\", \"label\": \"2175\", \"shape\": \"dot\", \"title\": \"2175\"}, {\"group\": \"2\", \"id\": \"5\", \"label\": \"5\", \"shape\": \"dot\", \"title\": \"5\"}, {\"group\": \"2\", \"id\": \"1629\", \"label\": \"1629\", \"shape\": \"dot\", \"title\": \"1629\"}, {\"group\": \"2\", \"id\": \"2546\", \"label\": \"2546\", \"shape\": \"dot\", \"title\": \"2546\"}, {\"group\": \"2\", \"id\": \"1659\", \"label\": \"1659\", \"shape\": \"dot\", \"title\": \"1659\"}, {\"group\": \"0\", \"id\": \"6\", \"label\": \"6\", \"shape\": \"dot\", \"title\": \"6\"}, {\"group\": \"0\", \"id\": \"1416\", \"label\": \"1416\", \"shape\": \"dot\", \"title\": \"1416\"}, {\"group\": \"0\", \"id\": \"1602\", \"label\": \"1602\", \"shape\": \"dot\", \"title\": \"1602\"}, {\"group\": \"0\", \"id\": \"1042\", \"label\": \"1042\", \"shape\": \"dot\", \"title\": \"1042\"}, {\"group\": \"0\", \"id\": \"373\", \"label\": \"373\", \"shape\": \"dot\", \"title\": \"373\"}, {\"group\": \"3\", \"id\": \"7\", \"label\": \"7\", \"shape\": \"dot\", \"title\": \"7\"}, {\"group\": \"3\", \"id\": \"208\", \"label\": \"208\", \"shape\": \"dot\", \"title\": \"208\"}, {\"group\": \"3\", \"id\": \"8\", \"label\": \"8\", \"shape\": \"dot\", \"title\": \"8\"}, {\"group\": \"3\", \"id\": \"281\", \"label\": \"281\", \"shape\": \"dot\", \"title\": \"281\"}, {\"group\": \"3\", \"id\": \"1996\", \"label\": \"1996\", \"shape\": \"dot\", \"title\": \"1996\"}, {\"group\": \"3\", \"id\": \"269\", \"label\": \"269\", \"shape\": \"dot\", \"title\": \"269\"}, {\"group\": \"2\", \"id\": \"9\", \"label\": \"9\", \"shape\": \"dot\", \"title\": \"9\"}, {\"group\": \"2\", \"id\": \"2614\", \"label\": \"2614\", \"shape\": \"dot\", \"title\": \"2614\"}, {\"group\": \"2\", \"id\": \"723\", \"label\": \"723\", \"shape\": \"dot\", \"title\": \"723\"}, {\"group\": \"0\", \"id\": \"10\", \"label\": \"10\", \"shape\": \"dot\", \"title\": \"10\"}, {\"group\": \"1\", \"id\": \"476\", \"label\": \"476\", \"shape\": \"dot\", \"title\": \"476\"}, {\"group\": \"1\", \"id\": \"2545\", \"label\": \"2545\", \"shape\": \"dot\", \"title\": \"2545\"}, {\"group\": \"0\", \"id\": \"11\", \"label\": \"11\", \"shape\": \"dot\", \"title\": \"11\"}, {\"group\": \"0\", \"id\": \"1655\", \"label\": \"1655\", \"shape\": \"dot\", \"title\": \"1655\"}, {\"group\": \"0\", \"id\": \"1839\", \"label\": \"1839\", \"shape\": \"dot\", \"title\": \"1839\"}, {\"group\": \"4\", \"id\": \"12\", \"label\": \"12\", \"shape\": \"dot\", \"title\": \"12\"}, {\"group\": \"4\", \"id\": \"2661\", \"label\": \"2661\", \"shape\": \"dot\", \"title\": \"2661\"}, {\"group\": \"4\", \"id\": \"1001\", \"label\": \"1001\", \"shape\": \"dot\", \"title\": \"1001\"}, {\"group\": \"4\", \"id\": \"1318\", \"label\": \"1318\", \"shape\": \"dot\", \"title\": \"1318\"}, {\"group\": \"4\", \"id\": \"2662\", \"label\": \"2662\", \"shape\": \"dot\", \"title\": \"2662\"}, {\"group\": \"3\", \"id\": \"13\", \"label\": \"13\", \"shape\": \"dot\", \"title\": \"13\"}, {\"group\": \"3\", \"id\": \"1810\", \"label\": \"1810\", \"shape\": \"dot\", \"title\": \"1810\"}, {\"group\": \"3\", \"id\": \"1701\", \"label\": \"1701\", \"shape\": \"dot\", \"title\": \"1701\"}, {\"group\": \"3\", \"id\": \"14\", \"label\": \"14\", \"shape\": \"dot\", \"title\": \"14\"}, {\"group\": \"4\", \"id\": \"2034\", \"label\": \"2034\", \"shape\": \"dot\", \"title\": \"2034\"}, {\"group\": \"3\", \"id\": \"2075\", \"label\": \"2075\", \"shape\": \"dot\", \"title\": \"2075\"}, {\"group\": \"3\", \"id\": \"158\", \"label\": \"158\", \"shape\": \"dot\", \"title\": \"158\"}, {\"group\": \"3\", \"id\": \"2077\", \"label\": \"2077\", \"shape\": \"dot\", \"title\": \"2077\"}, {\"group\": \"3\", \"id\": \"2668\", \"label\": \"2668\", \"shape\": \"dot\", \"title\": \"2668\"}, {\"group\": \"3\", \"id\": \"15\", \"label\": \"15\", \"shape\": \"dot\", \"title\": \"15\"}, {\"group\": \"3\", \"id\": \"2367\", \"label\": \"2367\", \"shape\": \"dot\", \"title\": \"2367\"}, {\"group\": \"3\", \"id\": \"1093\", \"label\": \"1093\", \"shape\": \"dot\", \"title\": \"1093\"}, {\"group\": \"3\", \"id\": \"1090\", \"label\": \"1090\", \"shape\": \"dot\", \"title\": \"1090\"}, {\"group\": \"3\", \"id\": \"1271\", \"label\": \"1271\", \"shape\": \"dot\", \"title\": \"1271\"}, {\"group\": \"2\", \"id\": \"16\", \"label\": \"16\", \"shape\": \"dot\", \"title\": \"16\"}, {\"group\": \"2\", \"id\": \"2444\", \"label\": \"2444\", \"shape\": \"dot\", \"title\": \"2444\"}, {\"group\": \"2\", \"id\": \"1632\", \"label\": \"1632\", \"shape\": \"dot\", \"title\": \"1632\"}, {\"group\": \"2\", \"id\": \"970\", \"label\": \"970\", \"shape\": \"dot\", \"title\": \"970\"}, {\"group\": \"2\", \"id\": \"2642\", \"label\": \"2642\", \"shape\": \"dot\", \"title\": \"2642\"}, {\"group\": \"3\", \"id\": \"17\", \"label\": \"17\", \"shape\": \"dot\", \"title\": \"17\"}, {\"group\": \"3\", \"id\": \"24\", \"label\": \"24\", \"shape\": \"dot\", \"title\": \"24\"}, {\"group\": \"3\", \"id\": \"2140\", \"label\": \"2140\", \"shape\": \"dot\", \"title\": \"2140\"}, {\"group\": \"3\", \"id\": \"1316\", \"label\": \"1316\", \"shape\": \"dot\", \"title\": \"1316\"}, {\"group\": \"3\", \"id\": \"1315\", \"label\": \"1315\", \"shape\": \"dot\", \"title\": \"1315\"}, {\"group\": \"3\", \"id\": \"927\", \"label\": \"927\", \"shape\": \"dot\", \"title\": \"927\"}, {\"group\": \"1\", \"id\": \"18\", \"label\": \"18\", \"shape\": \"dot\", \"title\": \"18\"}, {\"group\": \"1\", \"id\": \"2082\", \"label\": \"2082\", \"shape\": \"dot\", \"title\": \"2082\"}, {\"group\": \"1\", \"id\": \"139\", \"label\": \"139\", \"shape\": \"dot\", \"title\": \"139\"}, {\"group\": \"1\", \"id\": \"1786\", \"label\": \"1786\", \"shape\": \"dot\", \"title\": \"1786\"}, {\"group\": \"1\", \"id\": \"1560\", \"label\": \"1560\", \"shape\": \"dot\", \"title\": \"1560\"}, {\"group\": \"1\", \"id\": \"2145\", \"label\": \"2145\", \"shape\": \"dot\", \"title\": \"2145\"}, {\"group\": \"3\", \"id\": \"19\", \"label\": \"19\", \"shape\": \"dot\", \"title\": \"19\"}, {\"group\": \"3\", \"id\": \"1939\", \"label\": \"1939\", \"shape\": \"dot\", \"title\": \"1939\"}, {\"group\": \"5\", \"id\": \"20\", \"label\": \"20\", \"shape\": \"dot\", \"title\": \"20\"}, {\"group\": \"2\", \"id\": \"1072\", \"label\": \"1072\", \"shape\": \"dot\", \"title\": \"1072\"}, {\"group\": \"5\", \"id\": \"2374\", \"label\": \"2374\", \"shape\": \"dot\", \"title\": \"2374\"}, {\"group\": \"5\", \"id\": \"2375\", \"label\": \"2375\", \"shape\": \"dot\", \"title\": \"2375\"}, {\"group\": \"5\", \"id\": \"2269\", \"label\": \"2269\", \"shape\": \"dot\", \"title\": \"2269\"}, {\"group\": \"5\", \"id\": \"2270\", \"label\": \"2270\", \"shape\": \"dot\", \"title\": \"2270\"}, {\"group\": \"3\", \"id\": \"21\", \"label\": \"21\", \"shape\": \"dot\", \"title\": \"21\"}, {\"group\": \"5\", \"id\": \"1043\", \"label\": \"1043\", \"shape\": \"dot\", \"title\": \"1043\"}, {\"group\": \"3\", \"id\": \"2310\", \"label\": \"2310\", \"shape\": \"dot\", \"title\": \"2310\"}, {\"group\": \"4\", \"id\": \"22\", \"label\": \"22\", \"shape\": \"dot\", \"title\": \"22\"}, {\"group\": \"4\", \"id\": \"1703\", \"label\": \"1703\", \"shape\": \"dot\", \"title\": \"1703\"}, {\"group\": \"4\", \"id\": \"1702\", \"label\": \"1702\", \"shape\": \"dot\", \"title\": \"1702\"}, {\"group\": \"4\", \"id\": \"2238\", \"label\": \"2238\", \"shape\": \"dot\", \"title\": \"2238\"}, {\"group\": \"4\", \"id\": \"39\", \"label\": \"39\", \"shape\": \"dot\", \"title\": \"39\"}, {\"group\": \"4\", \"id\": \"1234\", \"label\": \"1234\", \"shape\": \"dot\", \"title\": \"1234\"}, {\"group\": \"6\", \"id\": \"23\", \"label\": \"23\", \"shape\": \"dot\", \"title\": \"23\"}, {\"group\": \"6\", \"id\": \"2159\", \"label\": \"2159\", \"shape\": \"dot\", \"title\": \"2159\"}, {\"group\": \"3\", \"id\": \"2139\", \"label\": \"2139\", \"shape\": \"dot\", \"title\": \"2139\"}, {\"group\": \"3\", \"id\": \"1636\", \"label\": \"1636\", \"shape\": \"dot\", \"title\": \"1636\"}, {\"group\": \"3\", \"id\": \"2141\", \"label\": \"2141\", \"shape\": \"dot\", \"title\": \"2141\"}, {\"group\": \"3\", \"id\": \"598\", \"label\": \"598\", \"shape\": \"dot\", \"title\": \"598\"}, {\"group\": \"3\", \"id\": \"201\", \"label\": \"201\", \"shape\": \"dot\", \"title\": \"201\"}, {\"group\": \"3\", \"id\": \"25\", \"label\": \"25\", \"shape\": \"dot\", \"title\": \"25\"}, {\"group\": \"3\", \"id\": \"1344\", \"label\": \"1344\", \"shape\": \"dot\", \"title\": \"1344\"}, {\"group\": \"3\", \"id\": \"2011\", \"label\": \"2011\", \"shape\": \"dot\", \"title\": \"2011\"}, {\"group\": \"3\", \"id\": \"1301\", \"label\": \"1301\", \"shape\": \"dot\", \"title\": \"1301\"}, {\"group\": \"3\", \"id\": \"2317\", \"label\": \"2317\", \"shape\": \"dot\", \"title\": \"2317\"}, {\"group\": \"6\", \"id\": \"26\", \"label\": \"26\", \"shape\": \"dot\", \"title\": \"26\"}, {\"group\": \"6\", \"id\": \"2454\", \"label\": \"2454\", \"shape\": \"dot\", \"title\": \"2454\"}, {\"group\": \"6\", \"id\": \"2455\", \"label\": \"2455\", \"shape\": \"dot\", \"title\": \"2455\"}, {\"group\": \"6\", \"id\": \"123\", \"label\": \"123\", \"shape\": \"dot\", \"title\": \"123\"}, {\"group\": \"6\", \"id\": \"99\", \"label\": \"99\", \"shape\": \"dot\", \"title\": \"99\"}, {\"group\": \"6\", \"id\": \"122\", \"label\": \"122\", \"shape\": \"dot\", \"title\": \"122\"}, {\"group\": \"3\", \"id\": \"27\", \"label\": \"27\", \"shape\": \"dot\", \"title\": \"27\"}, {\"group\": \"0\", \"id\": \"606\", \"label\": \"606\", \"shape\": \"dot\", \"title\": \"606\"}, {\"group\": \"0\", \"id\": \"2360\", \"label\": \"2360\", \"shape\": \"dot\", \"title\": \"2360\"}, {\"group\": \"0\", \"id\": \"2578\", \"label\": \"2578\", \"shape\": \"dot\", \"title\": \"2578\"}, {\"group\": \"2\", \"id\": \"28\", \"label\": \"28\", \"shape\": \"dot\", \"title\": \"28\"}, {\"group\": \"2\", \"id\": \"1687\", \"label\": \"1687\", \"shape\": \"dot\", \"title\": \"1687\"}, {\"group\": \"4\", \"id\": \"29\", \"label\": \"29\", \"shape\": \"dot\", \"title\": \"29\"}, {\"group\": \"4\", \"id\": \"963\", \"label\": \"963\", \"shape\": \"dot\", \"title\": \"963\"}, {\"group\": \"4\", \"id\": \"2645\", \"label\": \"2645\", \"shape\": \"dot\", \"title\": \"2645\"}, {\"group\": \"3\", \"id\": \"30\", \"label\": \"30\", \"shape\": \"dot\", \"title\": \"30\"}, {\"group\": \"2\", \"id\": \"1358\", \"label\": \"1358\", \"shape\": \"dot\", \"title\": \"1358\"}, {\"group\": \"3\", \"id\": \"2162\", \"label\": \"2162\", \"shape\": \"dot\", \"title\": \"2162\"}, {\"group\": \"3\", \"id\": \"697\", \"label\": \"697\", \"shape\": \"dot\", \"title\": \"697\"}, {\"group\": \"3\", \"id\": \"2343\", \"label\": \"2343\", \"shape\": \"dot\", \"title\": \"2343\"}, {\"group\": \"0\", \"id\": \"738\", \"label\": \"738\", \"shape\": \"dot\", \"title\": \"738\"}, {\"group\": \"6\", \"id\": \"31\", \"label\": \"31\", \"shape\": \"dot\", \"title\": \"31\"}, {\"group\": \"5\", \"id\": \"1594\", \"label\": \"1594\", \"shape\": \"dot\", \"title\": \"1594\"}, {\"group\": \"0\", \"id\": \"32\", \"label\": \"32\", \"shape\": \"dot\", \"title\": \"32\"}, {\"group\": \"6\", \"id\": \"1973\", \"label\": \"1973\", \"shape\": \"dot\", \"title\": \"1973\"}, {\"group\": \"0\", \"id\": \"279\", \"label\": \"279\", \"shape\": \"dot\", \"title\": \"279\"}, {\"group\": \"3\", \"id\": \"518\", \"label\": \"518\", \"shape\": \"dot\", \"title\": \"518\"}, {\"group\": \"0\", \"id\": \"1850\", \"label\": \"1850\", \"shape\": \"dot\", \"title\": \"1850\"}, {\"group\": \"4\", \"id\": \"33\", \"label\": \"33\", \"shape\": \"dot\", \"title\": \"33\"}, {\"group\": \"3\", \"id\": \"2119\", \"label\": \"2119\", \"shape\": \"dot\", \"title\": \"2119\"}, {\"group\": \"4\", \"id\": \"911\", \"label\": \"911\", \"shape\": \"dot\", \"title\": \"911\"}, {\"group\": \"4\", \"id\": \"588\", \"label\": \"588\", \"shape\": \"dot\", \"title\": \"588\"}, {\"group\": \"4\", \"id\": \"1051\", \"label\": \"1051\", \"shape\": \"dot\", \"title\": \"1051\"}, {\"group\": \"4\", \"id\": \"2120\", \"label\": \"2120\", \"shape\": \"dot\", \"title\": \"2120\"}, {\"group\": \"4\", \"id\": \"286\", \"label\": \"286\", \"shape\": \"dot\", \"title\": \"286\"}, {\"group\": \"4\", \"id\": \"2040\", \"label\": \"2040\", \"shape\": \"dot\", \"title\": \"2040\"}, {\"group\": \"4\", \"id\": \"2121\", \"label\": \"2121\", \"shape\": \"dot\", \"title\": \"2121\"}, {\"group\": \"4\", \"id\": \"698\", \"label\": \"698\", \"shape\": \"dot\", \"title\": \"698\"}, {\"group\": \"2\", \"id\": \"34\", \"label\": \"34\", \"shape\": \"dot\", \"title\": \"34\"}, {\"group\": \"0\", \"id\": \"35\", \"label\": \"35\", \"shape\": \"dot\", \"title\": \"35\"}, {\"group\": \"0\", \"id\": \"1296\", \"label\": \"1296\", \"shape\": \"dot\", \"title\": \"1296\"}, {\"group\": \"0\", \"id\": \"1913\", \"label\": \"1913\", \"shape\": \"dot\", \"title\": \"1913\"}, {\"group\": \"0\", \"id\": \"895\", \"label\": \"895\", \"shape\": \"dot\", \"title\": \"895\"}, {\"group\": \"1\", \"id\": \"36\", \"label\": \"36\", \"shape\": \"dot\", \"title\": \"36\"}, {\"group\": \"1\", \"id\": \"1146\", \"label\": \"1146\", \"shape\": \"dot\", \"title\": \"1146\"}, {\"group\": \"1\", \"id\": \"1640\", \"label\": \"1640\", \"shape\": \"dot\", \"title\": \"1640\"}, {\"group\": \"1\", \"id\": \"1505\", \"label\": \"1505\", \"shape\": \"dot\", \"title\": \"1505\"}, {\"group\": \"1\", \"id\": \"2106\", \"label\": \"2106\", \"shape\": \"dot\", \"title\": \"2106\"}, {\"group\": \"1\", \"id\": \"1781\", \"label\": \"1781\", \"shape\": \"dot\", \"title\": \"1781\"}, {\"group\": \"1\", \"id\": \"2094\", \"label\": \"2094\", \"shape\": \"dot\", \"title\": \"2094\"}, {\"group\": \"1\", \"id\": \"1552\", \"label\": \"1552\", \"shape\": \"dot\", \"title\": \"1552\"}, {\"group\": \"1\", \"id\": \"2107\", \"label\": \"2107\", \"shape\": \"dot\", \"title\": \"2107\"}, {\"group\": \"5\", \"id\": \"37\", \"label\": \"37\", \"shape\": \"dot\", \"title\": \"37\"}, {\"group\": \"3\", \"id\": \"2427\", \"label\": \"2427\", \"shape\": \"dot\", \"title\": \"2427\"}, {\"group\": \"5\", \"id\": \"1190\", \"label\": \"1190\", \"shape\": \"dot\", \"title\": \"1190\"}, {\"group\": \"0\", \"id\": \"60\", \"label\": \"60\", \"shape\": \"dot\", \"title\": \"60\"}, {\"group\": \"4\", \"id\": \"38\", \"label\": \"38\", \"shape\": \"dot\", \"title\": \"38\"}, {\"group\": \"4\", \"id\": \"429\", \"label\": \"429\", \"shape\": \"dot\", \"title\": \"429\"}, {\"group\": \"3\", \"id\": \"1160\", \"label\": \"1160\", \"shape\": \"dot\", \"title\": \"1160\"}, {\"group\": \"4\", \"id\": \"862\", \"label\": \"862\", \"shape\": \"dot\", \"title\": \"862\"}, {\"group\": \"0\", \"id\": \"863\", \"label\": \"863\", \"shape\": \"dot\", \"title\": \"863\"}, {\"group\": \"4\", \"id\": \"1634\", \"label\": \"1634\", \"shape\": \"dot\", \"title\": \"1634\"}, {\"group\": \"4\", \"id\": \"1965\", \"label\": \"1965\", \"shape\": \"dot\", \"title\": \"1965\"}, {\"group\": \"4\", \"id\": \"1349\", \"label\": \"1349\", \"shape\": \"dot\", \"title\": \"1349\"}, {\"group\": \"4\", \"id\": \"1532\", \"label\": \"1532\", \"shape\": \"dot\", \"title\": \"1532\"}, {\"group\": \"4\", \"id\": \"1522\", \"label\": \"1522\", \"shape\": \"dot\", \"title\": \"1522\"}, {\"group\": \"4\", \"id\": \"2357\", \"label\": \"2357\", \"shape\": \"dot\", \"title\": \"2357\"}, {\"group\": \"3\", \"id\": \"40\", \"label\": \"40\", \"shape\": \"dot\", \"title\": \"40\"}, {\"group\": \"3\", \"id\": \"507\", \"label\": \"507\", \"shape\": \"dot\", \"title\": \"507\"}, {\"group\": \"3\", \"id\": \"866\", \"label\": \"866\", \"shape\": \"dot\", \"title\": \"866\"}, {\"group\": \"3\", \"id\": \"1364\", \"label\": \"1364\", \"shape\": \"dot\", \"title\": \"1364\"}, {\"group\": \"6\", \"id\": \"41\", \"label\": \"41\", \"shape\": \"dot\", \"title\": \"41\"}, {\"group\": \"6\", \"id\": \"1914\", \"label\": \"1914\", \"shape\": \"dot\", \"title\": \"1914\"}, {\"group\": \"5\", \"id\": \"644\", \"label\": \"644\", \"shape\": \"dot\", \"title\": \"644\"}, {\"group\": \"6\", \"id\": \"175\", \"label\": \"175\", \"shape\": \"dot\", \"title\": \"175\"}, {\"group\": \"6\", \"id\": \"596\", \"label\": \"596\", \"shape\": \"dot\", \"title\": \"596\"}, {\"group\": \"6\", \"id\": \"42\", \"label\": \"42\", \"shape\": \"dot\", \"title\": \"42\"}, {\"group\": \"6\", \"id\": \"1372\", \"label\": \"1372\", \"shape\": \"dot\", \"title\": \"1372\"}, {\"group\": \"6\", \"id\": \"87\", \"label\": \"87\", \"shape\": \"dot\", \"title\": \"87\"}, {\"group\": \"4\", \"id\": \"43\", \"label\": \"43\", \"shape\": \"dot\", \"title\": \"43\"}, {\"group\": \"4\", \"id\": \"2399\", \"label\": \"2399\", \"shape\": \"dot\", \"title\": \"2399\"}, {\"group\": \"4\", \"id\": \"2400\", \"label\": \"2400\", \"shape\": \"dot\", \"title\": \"2400\"}, {\"group\": \"4\", \"id\": \"152\", \"label\": \"152\", \"shape\": \"dot\", \"title\": \"152\"}, {\"group\": \"4\", \"id\": \"1653\", \"label\": \"1653\", \"shape\": \"dot\", \"title\": \"1653\"}, {\"group\": \"4\", \"id\": \"1530\", \"label\": \"1530\", \"shape\": \"dot\", \"title\": \"1530\"}, {\"group\": \"3\", \"id\": \"44\", \"label\": \"44\", \"shape\": \"dot\", \"title\": \"44\"}, {\"group\": \"3\", \"id\": \"1582\", \"label\": \"1582\", \"shape\": \"dot\", \"title\": \"1582\"}, {\"group\": \"3\", \"id\": \"2624\", \"label\": \"2624\", \"shape\": \"dot\", \"title\": \"2624\"}, {\"group\": \"3\", \"id\": \"2701\", \"label\": \"2701\", \"shape\": \"dot\", \"title\": \"2701\"}, {\"group\": \"3\", \"id\": \"45\", \"label\": \"45\", \"shape\": \"dot\", \"title\": \"45\"}, {\"group\": \"0\", \"id\": \"733\", \"label\": \"733\", \"shape\": \"dot\", \"title\": \"733\"}, {\"group\": \"3\", \"id\": \"2303\", \"label\": \"2303\", \"shape\": \"dot\", \"title\": \"2303\"}, {\"group\": \"3\", \"id\": \"1219\", \"label\": \"1219\", \"shape\": \"dot\", \"title\": \"1219\"}, {\"group\": \"3\", \"id\": \"2667\", \"label\": \"2667\", \"shape\": \"dot\", \"title\": \"2667\"}, {\"group\": \"2\", \"id\": \"46\", \"label\": \"46\", \"shape\": \"dot\", \"title\": \"46\"}, {\"group\": \"2\", \"id\": \"2366\", \"label\": \"2366\", \"shape\": \"dot\", \"title\": \"2366\"}, {\"group\": \"2\", \"id\": \"1604\", \"label\": \"1604\", \"shape\": \"dot\", \"title\": \"1604\"}, {\"group\": \"5\", \"id\": \"47\", \"label\": \"47\", \"shape\": \"dot\", \"title\": \"47\"}, {\"group\": \"5\", \"id\": \"1579\", \"label\": \"1579\", \"shape\": \"dot\", \"title\": \"1579\"}, {\"group\": \"5\", \"id\": \"163\", \"label\": \"163\", \"shape\": \"dot\", \"title\": \"163\"}, {\"group\": \"3\", \"id\": \"48\", \"label\": \"48\", \"shape\": \"dot\", \"title\": \"48\"}, {\"group\": \"3\", \"id\": \"2471\", \"label\": \"2471\", \"shape\": \"dot\", \"title\": \"2471\"}, {\"group\": \"3\", \"id\": \"2205\", \"label\": \"2205\", \"shape\": \"dot\", \"title\": \"2205\"}, {\"group\": \"3\", \"id\": \"1031\", \"label\": \"1031\", \"shape\": \"dot\", \"title\": \"1031\"}, {\"group\": \"3\", \"id\": \"2041\", \"label\": \"2041\", \"shape\": \"dot\", \"title\": \"2041\"}, {\"group\": \"3\", \"id\": \"1662\", \"label\": \"1662\", \"shape\": \"dot\", \"title\": \"1662\"}, {\"group\": \"4\", \"id\": \"714\", \"label\": \"714\", \"shape\": \"dot\", \"title\": \"714\"}, {\"group\": \"3\", \"id\": \"2206\", \"label\": \"2206\", \"shape\": \"dot\", \"title\": \"2206\"}, {\"group\": \"4\", \"id\": \"49\", \"label\": \"49\", \"shape\": \"dot\", \"title\": \"49\"}, {\"group\": \"5\", \"id\": \"50\", \"label\": \"50\", \"shape\": \"dot\", \"title\": \"50\"}, {\"group\": \"5\", \"id\": \"1441\", \"label\": \"1441\", \"shape\": \"dot\", \"title\": \"1441\"}, {\"group\": \"3\", \"id\": \"51\", \"label\": \"51\", \"shape\": \"dot\", \"title\": \"51\"}, {\"group\": \"3\", \"id\": \"710\", \"label\": \"710\", \"shape\": \"dot\", \"title\": \"710\"}, {\"group\": \"3\", \"id\": \"2214\", \"label\": \"2214\", \"shape\": \"dot\", \"title\": \"2214\"}, {\"group\": \"3\", \"id\": \"2215\", \"label\": \"2215\", \"shape\": \"dot\", \"title\": \"2215\"}, {\"group\": \"3\", \"id\": \"2213\", \"label\": \"2213\", \"shape\": \"dot\", \"title\": \"2213\"}, {\"group\": \"3\", \"id\": \"457\", \"label\": \"457\", \"shape\": \"dot\", \"title\": \"457\"}, {\"group\": \"3\", \"id\": \"1392\", \"label\": \"1392\", \"shape\": \"dot\", \"title\": \"1392\"}, {\"group\": \"0\", \"id\": \"52\", \"label\": \"52\", \"shape\": \"dot\", \"title\": \"52\"}, {\"group\": \"0\", \"id\": \"1467\", \"label\": \"1467\", \"shape\": \"dot\", \"title\": \"1467\"}, {\"group\": \"0\", \"id\": \"2172\", \"label\": \"2172\", \"shape\": \"dot\", \"title\": \"2172\"}, {\"group\": \"0\", \"id\": \"2182\", \"label\": \"2182\", \"shape\": \"dot\", \"title\": \"2182\"}, {\"group\": \"0\", \"id\": \"1139\", \"label\": \"1139\", \"shape\": \"dot\", \"title\": \"1139\"}, {\"group\": \"0\", \"id\": \"2053\", \"label\": \"2053\", \"shape\": \"dot\", \"title\": \"2053\"}, {\"group\": \"2\", \"id\": \"53\", \"label\": \"53\", \"shape\": \"dot\", \"title\": \"53\"}, {\"group\": \"2\", \"id\": \"1103\", \"label\": \"1103\", \"shape\": \"dot\", \"title\": \"1103\"}, {\"group\": \"2\", \"id\": \"1739\", \"label\": \"1739\", \"shape\": \"dot\", \"title\": \"1739\"}, {\"group\": \"1\", \"id\": \"54\", \"label\": \"54\", \"shape\": \"dot\", \"title\": \"54\"}, {\"group\": \"0\", \"id\": \"767\", \"label\": \"767\", \"shape\": \"dot\", \"title\": \"767\"}, {\"group\": \"3\", \"id\": \"401\", \"label\": \"401\", \"shape\": \"dot\", \"title\": \"401\"}, {\"group\": \"4\", \"id\": \"55\", \"label\": \"55\", \"shape\": \"dot\", \"title\": \"55\"}, {\"group\": \"4\", \"id\": \"210\", \"label\": \"210\", \"shape\": \"dot\", \"title\": \"210\"}, {\"group\": \"0\", \"id\": \"1983\", \"label\": \"1983\", \"shape\": \"dot\", \"title\": \"1983\"}, {\"group\": \"4\", \"id\": \"787\", \"label\": \"787\", \"shape\": \"dot\", \"title\": \"787\"}, {\"group\": \"4\", \"id\": \"2020\", \"label\": \"2020\", \"shape\": \"dot\", \"title\": \"2020\"}, {\"group\": \"0\", \"id\": \"1156\", \"label\": \"1156\", \"shape\": \"dot\", \"title\": \"1156\"}, {\"group\": \"0\", \"id\": \"771\", \"label\": \"771\", \"shape\": \"dot\", \"title\": \"771\"}, {\"group\": \"0\", \"id\": \"815\", \"label\": \"815\", \"shape\": \"dot\", \"title\": \"815\"}, {\"group\": \"0\", \"id\": \"2021\", \"label\": \"2021\", \"shape\": \"dot\", \"title\": \"2021\"}, {\"group\": \"0\", \"id\": \"323\", \"label\": \"323\", \"shape\": \"dot\", \"title\": \"323\"}, {\"group\": \"0\", \"id\": \"651\", \"label\": \"651\", \"shape\": \"dot\", \"title\": \"651\"}, {\"group\": \"0\", \"id\": \"1079\", \"label\": \"1079\", \"shape\": \"dot\", \"title\": \"1079\"}, {\"group\": \"6\", \"id\": \"56\", \"label\": \"56\", \"shape\": \"dot\", \"title\": \"56\"}, {\"group\": \"6\", \"id\": \"1616\", \"label\": \"1616\", \"shape\": \"dot\", \"title\": \"1616\"}, {\"group\": \"6\", \"id\": \"412\", \"label\": \"412\", \"shape\": \"dot\", \"title\": \"412\"}, {\"group\": \"6\", \"id\": \"447\", \"label\": \"447\", \"shape\": \"dot\", \"title\": \"447\"}, {\"group\": \"6\", \"id\": \"1849\", \"label\": \"1849\", \"shape\": \"dot\", \"title\": \"1849\"}, {\"group\": \"3\", \"id\": \"57\", \"label\": \"57\", \"shape\": \"dot\", \"title\": \"57\"}, {\"group\": \"0\", \"id\": \"2418\", \"label\": \"2418\", \"shape\": \"dot\", \"title\": \"2418\"}, {\"group\": \"2\", \"id\": \"58\", \"label\": \"58\", \"shape\": \"dot\", \"title\": \"58\"}, {\"group\": \"2\", \"id\": \"1715\", \"label\": \"1715\", \"shape\": \"dot\", \"title\": \"1715\"}, {\"group\": \"2\", \"id\": \"59\", \"label\": \"59\", \"shape\": \"dot\", \"title\": \"59\"}, {\"group\": \"2\", \"id\": \"1725\", \"label\": \"1725\", \"shape\": \"dot\", \"title\": \"1725\"}, {\"group\": \"2\", \"id\": \"1627\", \"label\": \"1627\", \"shape\": \"dot\", \"title\": \"1627\"}, {\"group\": \"2\", \"id\": \"609\", \"label\": \"609\", \"shape\": \"dot\", \"title\": \"609\"}, {\"group\": \"2\", \"id\": \"615\", \"label\": \"615\", \"shape\": \"dot\", \"title\": \"615\"}, {\"group\": \"2\", \"id\": \"1287\", \"label\": \"1287\", \"shape\": \"dot\", \"title\": \"1287\"}, {\"group\": \"2\", \"id\": \"2651\", \"label\": \"2651\", \"shape\": \"dot\", \"title\": \"2651\"}, {\"group\": \"2\", \"id\": \"105\", \"label\": \"105\", \"shape\": \"dot\", \"title\": \"105\"}, {\"group\": \"2\", \"id\": \"580\", \"label\": \"580\", \"shape\": \"dot\", \"title\": \"580\"}, {\"group\": \"2\", \"id\": \"1067\", \"label\": \"1067\", \"shape\": \"dot\", \"title\": \"1067\"}, {\"group\": \"0\", \"id\": \"1527\", \"label\": \"1527\", \"shape\": \"dot\", \"title\": \"1527\"}, {\"group\": \"0\", \"id\": \"61\", \"label\": \"61\", \"shape\": \"dot\", \"title\": \"61\"}, {\"group\": \"5\", \"id\": \"1309\", \"label\": \"1309\", \"shape\": \"dot\", \"title\": \"1309\"}, {\"group\": \"0\", \"id\": \"2312\", \"label\": \"2312\", \"shape\": \"dot\", \"title\": \"2312\"}, {\"group\": \"3\", \"id\": \"1080\", \"label\": \"1080\", \"shape\": \"dot\", \"title\": \"1080\"}, {\"group\": \"0\", \"id\": \"62\", \"label\": \"62\", \"shape\": \"dot\", \"title\": \"62\"}, {\"group\": \"0\", \"id\": \"485\", \"label\": \"485\", \"shape\": \"dot\", \"title\": \"485\"}, {\"group\": \"4\", \"id\": \"63\", \"label\": \"63\", \"shape\": \"dot\", \"title\": \"63\"}, {\"group\": \"4\", \"id\": \"1322\", \"label\": \"1322\", \"shape\": \"dot\", \"title\": \"1322\"}, {\"group\": \"2\", \"id\": \"64\", \"label\": \"64\", \"shape\": \"dot\", \"title\": \"64\"}, {\"group\": \"2\", \"id\": \"1737\", \"label\": \"1737\", \"shape\": \"dot\", \"title\": \"1737\"}, {\"group\": \"2\", \"id\": \"1209\", \"label\": \"1209\", \"shape\": \"dot\", \"title\": \"1209\"}, {\"group\": \"2\", \"id\": \"2616\", \"label\": \"2616\", \"shape\": \"dot\", \"title\": \"2616\"}, {\"group\": \"0\", \"id\": \"65\", \"label\": \"65\", \"shape\": \"dot\", \"title\": \"65\"}, {\"group\": \"0\", \"id\": \"1628\", \"label\": \"1628\", \"shape\": \"dot\", \"title\": \"1628\"}, {\"group\": \"0\", \"id\": \"2419\", \"label\": \"2419\", \"shape\": \"dot\", \"title\": \"2419\"}, {\"group\": \"0\", \"id\": \"543\", \"label\": \"543\", \"shape\": \"dot\", \"title\": \"543\"}, {\"group\": \"0\", \"id\": \"619\", \"label\": \"619\", \"shape\": \"dot\", \"title\": \"619\"}, {\"group\": \"0\", \"id\": \"1293\", \"label\": \"1293\", \"shape\": \"dot\", \"title\": \"1293\"}, {\"group\": \"0\", \"id\": \"239\", \"label\": \"239\", \"shape\": \"dot\", \"title\": \"239\"}, {\"group\": \"4\", \"id\": \"66\", \"label\": \"66\", \"shape\": \"dot\", \"title\": \"66\"}, {\"group\": \"4\", \"id\": \"2631\", \"label\": \"2631\", \"shape\": \"dot\", \"title\": \"2631\"}, {\"group\": \"5\", \"id\": \"67\", \"label\": \"67\", \"shape\": \"dot\", \"title\": \"67\"}, {\"group\": \"5\", \"id\": \"540\", \"label\": \"540\", \"shape\": \"dot\", \"title\": \"540\"}, {\"group\": \"5\", \"id\": \"282\", \"label\": \"282\", \"shape\": \"dot\", \"title\": \"282\"}, {\"group\": \"5\", \"id\": \"2628\", \"label\": \"2628\", \"shape\": \"dot\", \"title\": \"2628\"}, {\"group\": \"2\", \"id\": \"68\", \"label\": \"68\", \"shape\": \"dot\", \"title\": \"68\"}, {\"group\": \"2\", \"id\": \"391\", \"label\": \"391\", \"shape\": \"dot\", \"title\": \"391\"}, {\"group\": \"6\", \"id\": \"69\", \"label\": \"69\", \"shape\": \"dot\", \"title\": \"69\"}, {\"group\": \"0\", \"id\": \"1013\", \"label\": \"1013\", \"shape\": \"dot\", \"title\": \"1013\"}, {\"group\": \"0\", \"id\": \"1926\", \"label\": \"1926\", \"shape\": \"dot\", \"title\": \"1926\"}, {\"group\": \"6\", \"id\": \"1351\", \"label\": \"1351\", \"shape\": \"dot\", \"title\": \"1351\"}, {\"group\": \"6\", \"id\": \"604\", \"label\": \"604\", \"shape\": \"dot\", \"title\": \"604\"}, {\"group\": \"0\", \"id\": \"1920\", \"label\": \"1920\", \"shape\": \"dot\", \"title\": \"1920\"}, {\"group\": \"0\", \"id\": \"2189\", \"label\": \"2189\", \"shape\": \"dot\", \"title\": \"2189\"}, {\"group\": \"5\", \"id\": \"70\", \"label\": \"70\", \"shape\": \"dot\", \"title\": \"70\"}, {\"group\": \"5\", \"id\": \"441\", \"label\": \"441\", \"shape\": \"dot\", \"title\": \"441\"}, {\"group\": \"5\", \"id\": \"2184\", \"label\": \"2184\", \"shape\": \"dot\", \"title\": \"2184\"}, {\"group\": \"2\", \"id\": \"71\", \"label\": \"71\", \"shape\": \"dot\", \"title\": \"71\"}, {\"group\": \"2\", \"id\": \"206\", \"label\": \"206\", \"shape\": \"dot\", \"title\": \"206\"}, {\"group\": \"2\", \"id\": \"2691\", \"label\": \"2691\", \"shape\": \"dot\", \"title\": \"2691\"}, {\"group\": \"2\", \"id\": \"72\", \"label\": \"72\", \"shape\": \"dot\", \"title\": \"72\"}, {\"group\": \"2\", \"id\": \"73\", \"label\": \"73\", \"shape\": \"dot\", \"title\": \"73\"}, {\"group\": \"2\", \"id\": \"797\", \"label\": \"797\", \"shape\": \"dot\", \"title\": \"797\"}, {\"group\": \"2\", \"id\": \"449\", \"label\": \"449\", \"shape\": \"dot\", \"title\": \"449\"}, {\"group\": \"2\", \"id\": \"1136\", \"label\": \"1136\", \"shape\": \"dot\", \"title\": \"1136\"}, {\"group\": \"2\", \"id\": \"558\", \"label\": \"558\", \"shape\": \"dot\", \"title\": \"558\"}, {\"group\": \"2\", \"id\": \"1723\", \"label\": \"1723\", \"shape\": \"dot\", \"title\": \"1723\"}, {\"group\": \"2\", \"id\": \"1189\", \"label\": \"1189\", \"shape\": \"dot\", \"title\": \"1189\"}, {\"group\": \"1\", \"id\": \"876\", \"label\": \"876\", \"shape\": \"dot\", \"title\": \"876\"}, {\"group\": \"2\", \"id\": \"1214\", \"label\": \"1214\", \"shape\": \"dot\", \"title\": \"1214\"}, {\"group\": \"2\", \"id\": \"1745\", \"label\": \"1745\", \"shape\": \"dot\", \"title\": \"1745\"}, {\"group\": \"2\", \"id\": \"1751\", \"label\": \"1751\", \"shape\": \"dot\", \"title\": \"1751\"}, {\"group\": \"2\", \"id\": \"1035\", \"label\": \"1035\", \"shape\": \"dot\", \"title\": \"1035\"}, {\"group\": \"0\", \"id\": \"74\", \"label\": \"74\", \"shape\": \"dot\", \"title\": \"74\"}, {\"group\": \"0\", \"id\": \"586\", \"label\": \"586\", \"shape\": \"dot\", \"title\": \"586\"}, {\"group\": \"0\", \"id\": \"2155\", \"label\": \"2155\", \"shape\": \"dot\", \"title\": \"2155\"}, {\"group\": \"0\", \"id\": \"544\", \"label\": \"544\", \"shape\": \"dot\", \"title\": \"544\"}, {\"group\": \"0\", \"id\": \"1118\", \"label\": \"1118\", \"shape\": \"dot\", \"title\": \"1118\"}, {\"group\": \"0\", \"id\": \"1517\", \"label\": \"1517\", \"shape\": \"dot\", \"title\": \"1517\"}, {\"group\": \"0\", \"id\": \"2052\", \"label\": \"2052\", \"shape\": \"dot\", \"title\": \"2052\"}, {\"group\": \"4\", \"id\": \"75\", \"label\": \"75\", \"shape\": \"dot\", \"title\": \"75\"}, {\"group\": \"4\", \"id\": \"2222\", \"label\": \"2222\", \"shape\": \"dot\", \"title\": \"2222\"}, {\"group\": \"4\", \"id\": \"2223\", \"label\": \"2223\", \"shape\": \"dot\", \"title\": \"2223\"}, {\"group\": \"4\", \"id\": \"2224\", \"label\": \"2224\", \"shape\": \"dot\", \"title\": \"2224\"}, {\"group\": \"4\", \"id\": \"2225\", \"label\": \"2225\", \"shape\": \"dot\", \"title\": \"2225\"}, {\"group\": \"4\", \"id\": \"84\", \"label\": \"84\", \"shape\": \"dot\", \"title\": \"84\"}, {\"group\": \"4\", \"id\": \"583\", \"label\": \"583\", \"shape\": \"dot\", \"title\": \"583\"}, {\"group\": \"5\", \"id\": \"76\", \"label\": \"76\", \"shape\": \"dot\", \"title\": \"76\"}, {\"group\": \"0\", \"id\": \"88\", \"label\": \"88\", \"shape\": \"dot\", \"title\": \"88\"}, {\"group\": \"0\", \"id\": \"2018\", \"label\": \"2018\", \"shape\": \"dot\", \"title\": \"2018\"}, {\"group\": \"5\", \"id\": \"2178\", \"label\": \"2178\", \"shape\": \"dot\", \"title\": \"2178\"}, {\"group\": \"6\", \"id\": \"77\", \"label\": \"77\", \"shape\": \"dot\", \"title\": \"77\"}, {\"group\": \"0\", \"id\": \"659\", \"label\": \"659\", \"shape\": \"dot\", \"title\": \"659\"}, {\"group\": \"0\", \"id\": \"1803\", \"label\": \"1803\", \"shape\": \"dot\", \"title\": \"1803\"}, {\"group\": \"4\", \"id\": \"78\", \"label\": \"78\", \"shape\": \"dot\", \"title\": \"78\"}, {\"group\": \"4\", \"id\": \"1418\", \"label\": \"1418\", \"shape\": \"dot\", \"title\": \"1418\"}, {\"group\": \"3\", \"id\": \"1329\", \"label\": \"1329\", \"shape\": \"dot\", \"title\": \"1329\"}, {\"group\": \"0\", \"id\": \"79\", \"label\": \"79\", \"shape\": \"dot\", \"title\": \"79\"}, {\"group\": \"0\", \"id\": \"2097\", \"label\": \"2097\", \"shape\": \"dot\", \"title\": \"2097\"}, {\"group\": \"3\", \"id\": \"603\", \"label\": \"603\", \"shape\": \"dot\", \"title\": \"603\"}, {\"group\": \"0\", \"id\": \"80\", \"label\": \"80\", \"shape\": \"dot\", \"title\": \"80\"}, {\"group\": \"0\", \"id\": \"257\", \"label\": \"257\", \"shape\": \"dot\", \"title\": \"257\"}, {\"group\": \"0\", \"id\": \"2049\", \"label\": \"2049\", \"shape\": \"dot\", \"title\": \"2049\"}, {\"group\": \"0\", \"id\": \"1117\", \"label\": \"1117\", \"shape\": \"dot\", \"title\": \"1117\"}, {\"group\": \"0\", \"id\": \"81\", \"label\": \"81\", \"shape\": \"dot\", \"title\": \"81\"}, {\"group\": \"0\", \"id\": \"2180\", \"label\": \"2180\", \"shape\": \"dot\", \"title\": \"2180\"}, {\"group\": \"0\", \"id\": \"347\", \"label\": \"347\", \"shape\": \"dot\", \"title\": \"347\"}, {\"group\": \"0\", \"id\": \"527\", \"label\": \"527\", \"shape\": \"dot\", \"title\": \"527\"}, {\"group\": \"0\", \"id\": \"423\", \"label\": \"423\", \"shape\": \"dot\", \"title\": \"423\"}, {\"group\": \"4\", \"id\": \"82\", \"label\": \"82\", \"shape\": \"dot\", \"title\": \"82\"}, {\"group\": \"4\", \"id\": \"1138\", \"label\": \"1138\", \"shape\": \"dot\", \"title\": \"1138\"}, {\"group\": \"2\", \"id\": \"83\", \"label\": \"83\", \"shape\": \"dot\", \"title\": \"83\"}, {\"group\": \"2\", \"id\": \"1520\", \"label\": \"1520\", \"shape\": \"dot\", \"title\": \"1520\"}, {\"group\": \"2\", \"id\": \"2581\", \"label\": \"2581\", \"shape\": \"dot\", \"title\": \"2581\"}, {\"group\": \"4\", \"id\": \"284\", \"label\": \"284\", \"shape\": \"dot\", \"title\": \"284\"}, {\"group\": \"4\", \"id\": \"2226\", \"label\": \"2226\", \"shape\": \"dot\", \"title\": \"2226\"}, {\"group\": \"1\", \"id\": \"85\", \"label\": \"85\", \"shape\": \"dot\", \"title\": \"85\"}, {\"group\": \"3\", \"id\": \"1065\", \"label\": \"1065\", \"shape\": \"dot\", \"title\": \"1065\"}, {\"group\": \"1\", \"id\": \"2487\", \"label\": \"2487\", \"shape\": \"dot\", \"title\": \"2487\"}, {\"group\": \"1\", \"id\": \"2488\", \"label\": \"2488\", \"shape\": \"dot\", \"title\": \"2488\"}, {\"group\": \"4\", \"id\": \"86\", \"label\": \"86\", \"shape\": \"dot\", \"title\": \"86\"}, {\"group\": \"4\", \"id\": \"1336\", \"label\": \"1336\", \"shape\": \"dot\", \"title\": \"1336\"}, {\"group\": \"0\", \"id\": \"2295\", \"label\": \"2295\", \"shape\": \"dot\", \"title\": \"2295\"}, {\"group\": \"0\", \"id\": \"842\", \"label\": \"842\", \"shape\": \"dot\", \"title\": \"842\"}, {\"group\": \"6\", \"id\": \"2164\", \"label\": \"2164\", \"shape\": \"dot\", \"title\": \"2164\"}, {\"group\": \"0\", \"id\": \"2010\", \"label\": \"2010\", \"shape\": \"dot\", \"title\": \"2010\"}, {\"group\": \"5\", \"id\": \"130\", \"label\": \"130\", \"shape\": \"dot\", \"title\": \"130\"}, {\"group\": \"5\", \"id\": \"1677\", \"label\": \"1677\", \"shape\": \"dot\", \"title\": \"1677\"}, {\"group\": \"3\", \"id\": \"2012\", \"label\": \"2012\", \"shape\": \"dot\", \"title\": \"2012\"}, {\"group\": \"6\", \"id\": \"2013\", \"label\": \"2013\", \"shape\": \"dot\", \"title\": \"2013\"}, {\"group\": \"0\", \"id\": \"1713\", \"label\": \"1713\", \"shape\": \"dot\", \"title\": \"1713\"}, {\"group\": \"0\", \"id\": \"1658\", \"label\": \"1658\", \"shape\": \"dot\", \"title\": \"1658\"}, {\"group\": \"5\", \"id\": \"1394\", \"label\": \"1394\", \"shape\": \"dot\", \"title\": \"1394\"}, {\"group\": \"6\", \"id\": \"1288\", \"label\": \"1288\", \"shape\": \"dot\", \"title\": \"1288\"}, {\"group\": \"4\", \"id\": \"498\", \"label\": \"498\", \"shape\": \"dot\", \"title\": \"498\"}, {\"group\": \"3\", \"id\": \"696\", \"label\": \"696\", \"shape\": \"dot\", \"title\": \"696\"}, {\"group\": \"5\", \"id\": \"1882\", \"label\": \"1882\", \"shape\": \"dot\", \"title\": \"1882\"}, {\"group\": \"0\", \"id\": \"851\", \"label\": \"851\", \"shape\": \"dot\", \"title\": \"851\"}, {\"group\": \"3\", \"id\": \"743\", \"label\": \"743\", \"shape\": \"dot\", \"title\": \"743\"}, {\"group\": \"3\", \"id\": \"2014\", \"label\": \"2014\", \"shape\": \"dot\", \"title\": \"2014\"}, {\"group\": \"2\", \"id\": \"1732\", \"label\": \"1732\", \"shape\": \"dot\", \"title\": \"1732\"}, {\"group\": \"4\", \"id\": \"162\", \"label\": \"162\", \"shape\": \"dot\", \"title\": \"162\"}, {\"group\": \"3\", \"id\": \"841\", \"label\": \"841\", \"shape\": \"dot\", \"title\": \"841\"}, {\"group\": \"5\", \"id\": \"1494\", \"label\": \"1494\", \"shape\": \"dot\", \"title\": \"1494\"}, {\"group\": \"4\", \"id\": \"1908\", \"label\": \"1908\", \"shape\": \"dot\", \"title\": \"1908\"}, {\"group\": \"3\", \"id\": \"1741\", \"label\": \"1741\", \"shape\": \"dot\", \"title\": \"1741\"}, {\"group\": \"0\", \"id\": \"1174\", \"label\": \"1174\", \"shape\": \"dot\", \"title\": \"1174\"}, {\"group\": \"5\", \"id\": \"300\", \"label\": \"300\", \"shape\": \"dot\", \"title\": \"300\"}, {\"group\": \"0\", \"id\": \"1847\", \"label\": \"1847\", \"shape\": \"dot\", \"title\": \"1847\"}, {\"group\": \"6\", \"id\": \"2015\", \"label\": \"2015\", \"shape\": \"dot\", \"title\": \"2015\"}, {\"group\": \"0\", \"id\": \"2016\", \"label\": \"2016\", \"shape\": \"dot\", \"title\": \"2016\"}, {\"group\": \"5\", \"id\": \"2017\", \"label\": \"2017\", \"shape\": \"dot\", \"title\": \"2017\"}, {\"group\": \"0\", \"id\": \"415\", \"label\": \"415\", \"shape\": \"dot\", \"title\": \"415\"}, {\"group\": \"5\", \"id\": \"737\", \"label\": \"737\", \"shape\": \"dot\", \"title\": \"737\"}, {\"group\": \"6\", \"id\": \"2394\", \"label\": \"2394\", \"shape\": \"dot\", \"title\": \"2394\"}, {\"group\": \"4\", \"id\": \"89\", \"label\": \"89\", \"shape\": \"dot\", \"title\": \"89\"}, {\"group\": \"4\", \"id\": \"1087\", \"label\": \"1087\", \"shape\": \"dot\", \"title\": \"1087\"}, {\"group\": \"4\", \"id\": \"884\", \"label\": \"884\", \"shape\": \"dot\", \"title\": \"884\"}, {\"group\": \"4\", \"id\": \"1401\", \"label\": \"1401\", \"shape\": \"dot\", \"title\": \"1401\"}, {\"group\": \"4\", \"id\": \"2463\", \"label\": \"2463\", \"shape\": \"dot\", \"title\": \"2463\"}, {\"group\": \"4\", \"id\": \"1157\", \"label\": \"1157\", \"shape\": \"dot\", \"title\": \"1157\"}, {\"group\": \"4\", \"id\": \"1094\", \"label\": \"1094\", \"shape\": \"dot\", \"title\": \"1094\"}, {\"group\": \"4\", \"id\": \"258\", \"label\": \"258\", \"shape\": \"dot\", \"title\": \"258\"}, {\"group\": \"4\", \"id\": \"1585\", \"label\": \"1585\", \"shape\": \"dot\", \"title\": \"1585\"}, {\"group\": \"2\", \"id\": \"90\", \"label\": \"90\", \"shape\": \"dot\", \"title\": \"90\"}, {\"group\": \"2\", \"id\": \"817\", \"label\": \"817\", \"shape\": \"dot\", \"title\": \"817\"}, {\"group\": \"2\", \"id\": \"155\", \"label\": \"155\", \"shape\": \"dot\", \"title\": \"155\"}, {\"group\": \"2\", \"id\": \"156\", \"label\": \"156\", \"shape\": \"dot\", \"title\": \"156\"}, {\"group\": \"4\", \"id\": \"91\", \"label\": \"91\", \"shape\": \"dot\", \"title\": \"91\"}, {\"group\": \"4\", \"id\": \"2122\", \"label\": \"2122\", \"shape\": \"dot\", \"title\": \"2122\"}, {\"group\": \"4\", \"id\": \"2001\", \"label\": \"2001\", \"shape\": \"dot\", \"title\": \"2001\"}, {\"group\": \"4\", \"id\": \"330\", \"label\": \"330\", \"shape\": \"dot\", \"title\": \"330\"}, {\"group\": \"4\", \"id\": \"2380\", \"label\": \"2380\", \"shape\": \"dot\", \"title\": \"2380\"}, {\"group\": \"4\", \"id\": \"2123\", \"label\": \"2123\", \"shape\": \"dot\", \"title\": \"2123\"}, {\"group\": \"4\", \"id\": \"1046\", \"label\": \"1046\", \"shape\": \"dot\", \"title\": \"1046\"}, {\"group\": \"6\", \"id\": \"92\", \"label\": \"92\", \"shape\": \"dot\", \"title\": \"92\"}, {\"group\": \"6\", \"id\": \"898\", \"label\": \"898\", \"shape\": \"dot\", \"title\": \"898\"}, {\"group\": \"6\", \"id\": \"1836\", \"label\": \"1836\", \"shape\": \"dot\", \"title\": \"1836\"}, {\"group\": \"6\", \"id\": \"93\", \"label\": \"93\", \"shape\": \"dot\", \"title\": \"93\"}, {\"group\": \"6\", \"id\": \"2151\", \"label\": \"2151\", \"shape\": \"dot\", \"title\": \"2151\"}, {\"group\": \"6\", \"id\": \"550\", \"label\": \"550\", \"shape\": \"dot\", \"title\": \"550\"}, {\"group\": \"6\", \"id\": \"1495\", \"label\": \"1495\", \"shape\": \"dot\", \"title\": \"1495\"}, {\"group\": \"6\", \"id\": \"950\", \"label\": \"950\", \"shape\": \"dot\", \"title\": \"950\"}, {\"group\": \"0\", \"id\": \"94\", \"label\": \"94\", \"shape\": \"dot\", \"title\": \"94\"}, {\"group\": \"4\", \"id\": \"1966\", \"label\": \"1966\", \"shape\": \"dot\", \"title\": \"1966\"}, {\"group\": \"4\", \"id\": \"1649\", \"label\": \"1649\", \"shape\": \"dot\", \"title\": \"1649\"}, {\"group\": \"4\", \"id\": \"2490\", \"label\": \"2490\", \"shape\": \"dot\", \"title\": \"2490\"}, {\"group\": \"0\", \"id\": \"195\", \"label\": \"195\", \"shape\": \"dot\", \"title\": \"195\"}, {\"group\": \"4\", \"id\": \"2355\", \"label\": \"2355\", \"shape\": \"dot\", \"title\": \"2355\"}, {\"group\": \"4\", \"id\": \"934\", \"label\": \"934\", \"shape\": \"dot\", \"title\": \"934\"}, {\"group\": \"4\", \"id\": \"2263\", \"label\": \"2263\", \"shape\": \"dot\", \"title\": \"2263\"}, {\"group\": \"4\", \"id\": \"675\", \"label\": \"675\", \"shape\": \"dot\", \"title\": \"675\"}, {\"group\": \"0\", \"id\": \"95\", \"label\": \"95\", \"shape\": \"dot\", \"title\": \"95\"}, {\"group\": \"0\", \"id\": \"1535\", \"label\": \"1535\", \"shape\": \"dot\", \"title\": \"1535\"}, {\"group\": \"0\", \"id\": \"1838\", \"label\": \"1838\", \"shape\": \"dot\", \"title\": \"1838\"}, {\"group\": \"0\", \"id\": \"2200\", \"label\": \"2200\", \"shape\": \"dot\", \"title\": \"2200\"}, {\"group\": \"0\", \"id\": \"2201\", \"label\": \"2201\", \"shape\": \"dot\", \"title\": \"2201\"}, {\"group\": \"0\", \"id\": \"2197\", \"label\": \"2197\", \"shape\": \"dot\", \"title\": \"2197\"}, {\"group\": \"0\", \"id\": \"2199\", \"label\": \"2199\", \"shape\": \"dot\", \"title\": \"2199\"}, {\"group\": \"0\", \"id\": \"2181\", \"label\": \"2181\", \"shape\": \"dot\", \"title\": \"2181\"}, {\"group\": \"0\", \"id\": \"2054\", \"label\": \"2054\", \"shape\": \"dot\", \"title\": \"2054\"}, {\"group\": \"0\", \"id\": \"861\", \"label\": \"861\", \"shape\": \"dot\", \"title\": \"861\"}, {\"group\": \"0\", \"id\": \"334\", \"label\": \"334\", \"shape\": \"dot\", \"title\": \"334\"}, {\"group\": \"3\", \"id\": \"1303\", \"label\": \"1303\", \"shape\": \"dot\", \"title\": \"1303\"}, {\"group\": \"0\", \"id\": \"734\", \"label\": \"734\", \"shape\": \"dot\", \"title\": \"734\"}, {\"group\": \"0\", \"id\": \"736\", \"label\": \"736\", \"shape\": \"dot\", \"title\": \"736\"}, {\"group\": \"0\", \"id\": \"2074\", \"label\": \"2074\", \"shape\": \"dot\", \"title\": \"2074\"}, {\"group\": \"0\", \"id\": \"693\", \"label\": \"693\", \"shape\": \"dot\", \"title\": \"693\"}, {\"group\": \"0\", \"id\": \"456\", \"label\": \"456\", \"shape\": \"dot\", \"title\": \"456\"}, {\"group\": \"0\", \"id\": \"2183\", \"label\": \"2183\", \"shape\": \"dot\", \"title\": \"2183\"}, {\"group\": \"0\", \"id\": \"1580\", \"label\": \"1580\", \"shape\": \"dot\", \"title\": \"1580\"}, {\"group\": \"6\", \"id\": \"96\", \"label\": \"96\", \"shape\": \"dot\", \"title\": \"96\"}, {\"group\": \"6\", \"id\": \"2217\", \"label\": \"2217\", \"shape\": \"dot\", \"title\": \"2217\"}, {\"group\": \"5\", \"id\": \"97\", \"label\": \"97\", \"shape\": \"dot\", \"title\": \"97\"}, {\"group\": \"5\", \"id\": \"661\", \"label\": \"661\", \"shape\": \"dot\", \"title\": \"661\"}, {\"group\": \"5\", \"id\": \"1353\", \"label\": \"1353\", \"shape\": \"dot\", \"title\": \"1353\"}, {\"group\": \"0\", \"id\": \"98\", \"label\": \"98\", \"shape\": \"dot\", \"title\": \"98\"}, {\"group\": \"0\", \"id\": \"1521\", \"label\": \"1521\", \"shape\": \"dot\", \"title\": \"1521\"}, {\"group\": \"6\", \"id\": \"2604\", \"label\": \"2604\", \"shape\": \"dot\", \"title\": \"2604\"}, {\"group\": \"0\", \"id\": \"100\", \"label\": \"100\", \"shape\": \"dot\", \"title\": \"100\"}, {\"group\": \"0\", \"id\": \"2056\", \"label\": \"2056\", \"shape\": \"dot\", \"title\": \"2056\"}, {\"group\": \"2\", \"id\": \"101\", \"label\": \"101\", \"shape\": \"dot\", \"title\": \"101\"}, {\"group\": \"2\", \"id\": \"1589\", \"label\": \"1589\", \"shape\": \"dot\", \"title\": \"1589\"}, {\"group\": \"1\", \"id\": \"102\", \"label\": \"102\", \"shape\": \"dot\", \"title\": \"102\"}, {\"group\": \"1\", \"id\": \"1623\", \"label\": \"1623\", \"shape\": \"dot\", \"title\": \"1623\"}, {\"group\": \"1\", \"id\": \"109\", \"label\": \"109\", \"shape\": \"dot\", \"title\": \"109\"}, {\"group\": \"5\", \"id\": \"1878\", \"label\": \"1878\", \"shape\": \"dot\", \"title\": \"1878\"}, {\"group\": \"1\", \"id\": \"1448\", \"label\": \"1448\", \"shape\": \"dot\", \"title\": \"1448\"}, {\"group\": \"5\", \"id\": \"2256\", \"label\": \"2256\", \"shape\": \"dot\", \"title\": \"2256\"}, {\"group\": \"1\", \"id\": \"1251\", \"label\": \"1251\", \"shape\": \"dot\", \"title\": \"1251\"}, {\"group\": \"3\", \"id\": \"1871\", \"label\": \"1871\", \"shape\": \"dot\", \"title\": \"1871\"}, {\"group\": \"1\", \"id\": \"1561\", \"label\": \"1561\", \"shape\": \"dot\", \"title\": \"1561\"}, {\"group\": \"1\", \"id\": \"103\", \"label\": \"103\", \"shape\": \"dot\", \"title\": \"103\"}, {\"group\": \"1\", \"id\": \"484\", \"label\": \"484\", \"shape\": \"dot\", \"title\": \"484\"}, {\"group\": \"1\", \"id\": \"306\", \"label\": \"306\", \"shape\": \"dot\", \"title\": \"306\"}, {\"group\": \"1\", \"id\": \"608\", \"label\": \"608\", \"shape\": \"dot\", \"title\": \"608\"}, {\"group\": \"1\", \"id\": \"1790\", \"label\": \"1790\", \"shape\": \"dot\", \"title\": \"1790\"}, {\"group\": \"1\", \"id\": \"1775\", \"label\": \"1775\", \"shape\": \"dot\", \"title\": \"1775\"}, {\"group\": \"1\", \"id\": \"104\", \"label\": \"104\", \"shape\": \"dot\", \"title\": \"104\"}, {\"group\": \"1\", \"id\": \"2210\", \"label\": \"2210\", \"shape\": \"dot\", \"title\": \"2210\"}, {\"group\": \"1\", \"id\": \"864\", \"label\": \"864\", \"shape\": \"dot\", \"title\": \"864\"}, {\"group\": \"2\", \"id\": \"1721\", \"label\": \"1721\", \"shape\": \"dot\", \"title\": \"1721\"}, {\"group\": \"2\", \"id\": \"2476\", \"label\": \"2476\", \"shape\": \"dot\", \"title\": \"2476\"}, {\"group\": \"6\", \"id\": \"106\", \"label\": \"106\", \"shape\": \"dot\", \"title\": \"106\"}, {\"group\": \"6\", \"id\": \"2461\", \"label\": \"2461\", \"shape\": \"dot\", \"title\": \"2461\"}, {\"group\": \"5\", \"id\": \"107\", \"label\": \"107\", \"shape\": \"dot\", \"title\": \"107\"}, {\"group\": \"5\", \"id\": \"541\", \"label\": \"541\", \"shape\": \"dot\", \"title\": \"541\"}, {\"group\": \"5\", \"id\": \"1113\", \"label\": \"1113\", \"shape\": \"dot\", \"title\": \"1113\"}, {\"group\": \"5\", \"id\": \"971\", \"label\": \"971\", \"shape\": \"dot\", \"title\": \"971\"}, {\"group\": \"5\", \"id\": \"1650\", \"label\": \"1650\", \"shape\": \"dot\", \"title\": \"1650\"}, {\"group\": \"6\", \"id\": \"108\", \"label\": \"108\", \"shape\": \"dot\", \"title\": \"108\"}, {\"group\": \"6\", \"id\": \"2157\", \"label\": \"2157\", \"shape\": \"dot\", \"title\": \"2157\"}, {\"group\": \"6\", \"id\": \"1647\", \"label\": \"1647\", \"shape\": \"dot\", \"title\": \"1647\"}, {\"group\": \"6\", \"id\": \"2209\", \"label\": \"2209\", \"shape\": \"dot\", \"title\": \"2209\"}, {\"group\": \"1\", \"id\": \"1624\", \"label\": \"1624\", \"shape\": \"dot\", \"title\": \"1624\"}, {\"group\": \"1\", \"id\": \"2045\", \"label\": \"2045\", \"shape\": \"dot\", \"title\": \"2045\"}, {\"group\": \"1\", \"id\": \"236\", \"label\": \"236\", \"shape\": \"dot\", \"title\": \"236\"}, {\"group\": \"1\", \"id\": \"124\", \"label\": \"124\", \"shape\": \"dot\", \"title\": \"124\"}, {\"group\": \"1\", \"id\": \"1769\", \"label\": \"1769\", \"shape\": \"dot\", \"title\": \"1769\"}, {\"group\": \"2\", \"id\": \"289\", \"label\": \"289\", \"shape\": \"dot\", \"title\": \"289\"}, {\"group\": \"1\", \"id\": \"2092\", \"label\": \"2092\", \"shape\": \"dot\", \"title\": \"2092\"}, {\"group\": \"1\", \"id\": \"459\", \"label\": \"459\", \"shape\": \"dot\", \"title\": \"459\"}, {\"group\": \"1\", \"id\": \"318\", \"label\": \"318\", \"shape\": \"dot\", \"title\": \"318\"}, {\"group\": \"1\", \"id\": \"2093\", \"label\": \"2093\", \"shape\": \"dot\", \"title\": \"2093\"}, {\"group\": \"1\", \"id\": \"1772\", \"label\": \"1772\", \"shape\": \"dot\", \"title\": \"1772\"}, {\"group\": \"1\", \"id\": \"1045\", \"label\": \"1045\", \"shape\": \"dot\", \"title\": \"1045\"}, {\"group\": \"4\", \"id\": \"1785\", \"label\": \"1785\", \"shape\": \"dot\", \"title\": \"1785\"}, {\"group\": \"1\", \"id\": \"1337\", \"label\": \"1337\", \"shape\": \"dot\", \"title\": \"1337\"}, {\"group\": \"5\", \"id\": \"1998\", \"label\": \"1998\", \"shape\": \"dot\", \"title\": \"1998\"}, {\"group\": \"1\", \"id\": \"1787\", \"label\": \"1787\", \"shape\": \"dot\", \"title\": \"1787\"}, {\"group\": \"5\", \"id\": \"610\", \"label\": \"610\", \"shape\": \"dot\", \"title\": \"610\"}, {\"group\": \"1\", \"id\": \"1789\", \"label\": \"1789\", \"shape\": \"dot\", \"title\": \"1789\"}, {\"group\": \"1\", \"id\": \"1779\", \"label\": \"1779\", \"shape\": \"dot\", \"title\": \"1779\"}, {\"group\": \"1\", \"id\": \"1346\", \"label\": \"1346\", \"shape\": \"dot\", \"title\": \"1346\"}, {\"group\": \"1\", \"id\": \"153\", \"label\": \"153\", \"shape\": \"dot\", \"title\": \"153\"}, {\"group\": \"1\", \"id\": \"519\", \"label\": \"519\", \"shape\": \"dot\", \"title\": \"519\"}, {\"group\": \"1\", \"id\": \"133\", \"label\": \"133\", \"shape\": \"dot\", \"title\": \"133\"}, {\"group\": \"1\", \"id\": \"1805\", \"label\": \"1805\", \"shape\": \"dot\", \"title\": \"1805\"}, {\"group\": \"1\", \"id\": \"426\", \"label\": \"426\", \"shape\": \"dot\", \"title\": \"426\"}, {\"group\": \"1\", \"id\": \"563\", \"label\": \"563\", \"shape\": \"dot\", \"title\": \"563\"}, {\"group\": \"1\", \"id\": \"176\", \"label\": \"176\", \"shape\": \"dot\", \"title\": \"176\"}, {\"group\": \"1\", \"id\": \"2095\", \"label\": \"2095\", \"shape\": \"dot\", \"title\": \"2095\"}, {\"group\": \"5\", \"id\": \"1661\", \"label\": \"1661\", \"shape\": \"dot\", \"title\": \"1661\"}, {\"group\": \"2\", \"id\": \"110\", \"label\": \"110\", \"shape\": \"dot\", \"title\": \"110\"}, {\"group\": \"2\", \"id\": \"1262\", \"label\": \"1262\", \"shape\": \"dot\", \"title\": \"1262\"}, {\"group\": \"2\", \"id\": \"567\", \"label\": \"567\", \"shape\": \"dot\", \"title\": \"567\"}, {\"group\": \"2\", \"id\": \"2279\", \"label\": \"2279\", \"shape\": \"dot\", \"title\": \"2279\"}, {\"group\": \"2\", \"id\": \"1161\", \"label\": \"1161\", \"shape\": \"dot\", \"title\": \"1161\"}, {\"group\": \"2\", \"id\": \"1599\", \"label\": \"1599\", \"shape\": \"dot\", \"title\": \"1599\"}, {\"group\": \"2\", \"id\": \"111\", \"label\": \"111\", \"shape\": \"dot\", \"title\": \"111\"}, {\"group\": \"2\", \"id\": \"1169\", \"label\": \"1169\", \"shape\": \"dot\", \"title\": \"1169\"}, {\"group\": \"2\", \"id\": \"2643\", \"label\": \"2643\", \"shape\": \"dot\", \"title\": \"2643\"}, {\"group\": \"2\", \"id\": \"758\", \"label\": \"758\", \"shape\": \"dot\", \"title\": \"758\"}, {\"group\": \"2\", \"id\": \"2492\", \"label\": \"2492\", \"shape\": \"dot\", \"title\": \"2492\"}, {\"group\": \"2\", \"id\": \"1762\", \"label\": \"1762\", \"shape\": \"dot\", \"title\": \"1762\"}, {\"group\": \"1\", \"id\": \"112\", \"label\": \"112\", \"shape\": \"dot\", \"title\": \"112\"}, {\"group\": \"1\", \"id\": \"487\", \"label\": \"487\", \"shape\": \"dot\", \"title\": \"487\"}, {\"group\": \"1\", \"id\": \"2080\", \"label\": \"2080\", \"shape\": \"dot\", \"title\": \"2080\"}, {\"group\": \"5\", \"id\": \"113\", \"label\": \"113\", \"shape\": \"dot\", \"title\": \"113\"}, {\"group\": \"5\", \"id\": \"747\", \"label\": \"747\", \"shape\": \"dot\", \"title\": \"747\"}, {\"group\": \"5\", \"id\": \"1884\", \"label\": \"1884\", \"shape\": \"dot\", \"title\": \"1884\"}, {\"group\": \"5\", \"id\": \"114\", \"label\": \"114\", \"shape\": \"dot\", \"title\": \"114\"}, {\"group\": \"5\", \"id\": \"2288\", \"label\": \"2288\", \"shape\": \"dot\", \"title\": \"2288\"}, {\"group\": \"5\", \"id\": \"2506\", \"label\": \"2506\", \"shape\": \"dot\", \"title\": \"2506\"}, {\"group\": \"5\", \"id\": \"115\", \"label\": \"115\", \"shape\": \"dot\", \"title\": \"115\"}, {\"group\": \"5\", \"id\": \"973\", \"label\": \"973\", \"shape\": \"dot\", \"title\": \"973\"}, {\"group\": \"6\", \"id\": \"116\", \"label\": \"116\", \"shape\": \"dot\", \"title\": \"116\"}, {\"group\": \"6\", \"id\": \"1076\", \"label\": \"1076\", \"shape\": \"dot\", \"title\": \"1076\"}, {\"group\": \"6\", \"id\": \"1501\", \"label\": \"1501\", \"shape\": \"dot\", \"title\": \"1501\"}, {\"group\": \"5\", \"id\": \"117\", \"label\": \"117\", \"shape\": \"dot\", \"title\": \"117\"}, {\"group\": \"5\", \"id\": \"259\", \"label\": \"259\", \"shape\": \"dot\", \"title\": \"259\"}, {\"group\": \"5\", \"id\": \"2537\", \"label\": \"2537\", \"shape\": \"dot\", \"title\": \"2537\"}, {\"group\": \"6\", \"id\": \"118\", \"label\": \"118\", \"shape\": \"dot\", \"title\": \"118\"}, {\"group\": \"5\", \"id\": \"388\", \"label\": \"388\", \"shape\": \"dot\", \"title\": \"388\"}, {\"group\": \"6\", \"id\": \"2030\", \"label\": \"2030\", \"shape\": \"dot\", \"title\": \"2030\"}, {\"group\": \"0\", \"id\": \"446\", \"label\": \"446\", \"shape\": \"dot\", \"title\": \"446\"}, {\"group\": \"4\", \"id\": \"255\", \"label\": \"255\", \"shape\": \"dot\", \"title\": \"255\"}, {\"group\": \"4\", \"id\": \"1343\", \"label\": \"1343\", \"shape\": \"dot\", \"title\": \"1343\"}, {\"group\": \"6\", \"id\": \"2165\", \"label\": \"2165\", \"shape\": \"dot\", \"title\": \"2165\"}, {\"group\": \"3\", \"id\": \"554\", \"label\": \"554\", \"shape\": \"dot\", \"title\": \"554\"}, {\"group\": \"1\", \"id\": \"581\", \"label\": \"581\", \"shape\": \"dot\", \"title\": \"581\"}, {\"group\": \"5\", \"id\": \"1690\", \"label\": \"1690\", \"shape\": \"dot\", \"title\": \"1690\"}, {\"group\": \"0\", \"id\": \"1507\", \"label\": \"1507\", \"shape\": \"dot\", \"title\": \"1507\"}, {\"group\": \"6\", \"id\": \"2112\", \"label\": \"2112\", \"shape\": \"dot\", \"title\": \"2112\"}, {\"group\": \"5\", \"id\": \"1029\", \"label\": \"1029\", \"shape\": \"dot\", \"title\": \"1029\"}, {\"group\": \"5\", \"id\": \"2166\", \"label\": \"2166\", \"shape\": \"dot\", \"title\": \"2166\"}, {\"group\": \"5\", \"id\": \"1538\", \"label\": \"1538\", \"shape\": \"dot\", \"title\": \"1538\"}, {\"group\": \"5\", \"id\": \"454\", \"label\": \"454\", \"shape\": \"dot\", \"title\": \"454\"}, {\"group\": \"6\", \"id\": \"1851\", \"label\": \"1851\", \"shape\": \"dot\", \"title\": \"1851\"}, {\"group\": \"5\", \"id\": \"119\", \"label\": \"119\", \"shape\": \"dot\", \"title\": \"119\"}, {\"group\": \"5\", \"id\": \"646\", \"label\": \"646\", \"shape\": \"dot\", \"title\": \"646\"}, {\"group\": \"5\", \"id\": \"1959\", \"label\": \"1959\", \"shape\": \"dot\", \"title\": \"1959\"}, {\"group\": \"5\", \"id\": \"379\", \"label\": \"379\", \"shape\": \"dot\", \"title\": \"379\"}, {\"group\": \"5\", \"id\": \"1549\", \"label\": \"1549\", \"shape\": \"dot\", \"title\": \"1549\"}, {\"group\": \"5\", \"id\": \"1901\", \"label\": \"1901\", \"shape\": \"dot\", \"title\": \"1901\"}, {\"group\": \"5\", \"id\": \"1537\", \"label\": \"1537\", \"shape\": \"dot\", \"title\": \"1537\"}, {\"group\": \"5\", \"id\": \"120\", \"label\": \"120\", \"shape\": \"dot\", \"title\": \"120\"}, {\"group\": \"5\", \"id\": \"514\", \"label\": \"514\", \"shape\": \"dot\", \"title\": \"514\"}, {\"group\": \"3\", \"id\": \"2405\", \"label\": \"2405\", \"shape\": \"dot\", \"title\": \"2405\"}, {\"group\": \"5\", \"id\": \"1842\", \"label\": \"1842\", \"shape\": \"dot\", \"title\": \"1842\"}, {\"group\": \"5\", \"id\": \"483\", \"label\": \"483\", \"shape\": \"dot\", \"title\": \"483\"}, {\"group\": \"5\", \"id\": \"816\", \"label\": \"816\", \"shape\": \"dot\", \"title\": \"816\"}, {\"group\": \"1\", \"id\": \"121\", \"label\": \"121\", \"shape\": \"dot\", \"title\": \"121\"}, {\"group\": \"0\", \"id\": \"1910\", \"label\": \"1910\", \"shape\": \"dot\", \"title\": \"1910\"}, {\"group\": \"1\", \"id\": \"980\", \"label\": \"980\", \"shape\": \"dot\", \"title\": \"980\"}, {\"group\": \"4\", \"id\": \"802\", \"label\": \"802\", \"shape\": \"dot\", \"title\": \"802\"}, {\"group\": \"1\", \"id\": \"1158\", \"label\": \"1158\", \"shape\": \"dot\", \"title\": \"1158\"}, {\"group\": \"1\", \"id\": \"2251\", \"label\": \"2251\", \"shape\": \"dot\", \"title\": \"2251\"}, {\"group\": \"1\", \"id\": \"589\", \"label\": \"589\", \"shape\": \"dot\", \"title\": \"589\"}, {\"group\": \"1\", \"id\": \"2252\", \"label\": \"2252\", \"shape\": \"dot\", \"title\": \"2252\"}, {\"group\": \"1\", \"id\": \"1367\", \"label\": \"1367\", \"shape\": \"dot\", \"title\": \"1367\"}, {\"group\": \"3\", \"id\": \"1622\", \"label\": \"1622\", \"shape\": \"dot\", \"title\": \"1622\"}, {\"group\": \"1\", \"id\": \"2478\", \"label\": \"2478\", \"shape\": \"dot\", \"title\": \"2478\"}, {\"group\": \"5\", \"id\": \"125\", \"label\": \"125\", \"shape\": \"dot\", \"title\": \"125\"}, {\"group\": \"5\", \"id\": \"458\", \"label\": \"458\", \"shape\": \"dot\", \"title\": \"458\"}, {\"group\": \"5\", \"id\": \"2363\", \"label\": \"2363\", \"shape\": \"dot\", \"title\": \"2363\"}, {\"group\": \"1\", \"id\": \"126\", \"label\": \"126\", \"shape\": \"dot\", \"title\": \"126\"}, {\"group\": \"1\", \"id\": \"1551\", \"label\": \"1551\", \"shape\": \"dot\", \"title\": \"1551\"}, {\"group\": \"1\", \"id\": \"2079\", \"label\": \"2079\", \"shape\": \"dot\", \"title\": \"2079\"}, {\"group\": \"6\", \"id\": \"127\", \"label\": \"127\", \"shape\": \"dot\", \"title\": \"127\"}, {\"group\": \"5\", \"id\": \"128\", \"label\": \"128\", \"shape\": \"dot\", \"title\": \"128\"}, {\"group\": \"5\", \"id\": \"233\", \"label\": \"233\", \"shape\": \"dot\", \"title\": \"233\"}, {\"group\": \"5\", \"id\": \"392\", \"label\": \"392\", \"shape\": \"dot\", \"title\": \"392\"}, {\"group\": \"5\", \"id\": \"370\", \"label\": \"370\", \"shape\": \"dot\", \"title\": \"370\"}, {\"group\": \"5\", \"id\": \"129\", \"label\": \"129\", \"shape\": \"dot\", \"title\": \"129\"}, {\"group\": \"5\", \"id\": \"701\", \"label\": \"701\", \"shape\": \"dot\", \"title\": \"701\"}, {\"group\": \"5\", \"id\": \"1982\", \"label\": \"1982\", \"shape\": \"dot\", \"title\": \"1982\"}, {\"group\": \"1\", \"id\": \"131\", \"label\": \"131\", \"shape\": \"dot\", \"title\": \"131\"}, {\"group\": \"2\", \"id\": \"2169\", \"label\": \"2169\", \"shape\": \"dot\", \"title\": \"2169\"}, {\"group\": \"1\", \"id\": \"834\", \"label\": \"834\", \"shape\": \"dot\", \"title\": \"834\"}, {\"group\": \"5\", \"id\": \"132\", \"label\": \"132\", \"shape\": \"dot\", \"title\": \"132\"}, {\"group\": \"5\", \"id\": \"904\", \"label\": \"904\", \"shape\": \"dot\", \"title\": \"904\"}, {\"group\": \"5\", \"id\": \"1022\", \"label\": \"1022\", \"shape\": \"dot\", \"title\": \"1022\"}, {\"group\": \"5\", \"id\": \"479\", \"label\": \"479\", \"shape\": \"dot\", \"title\": \"479\"}, {\"group\": \"1\", \"id\": \"1670\", \"label\": \"1670\", \"shape\": \"dot\", \"title\": \"1670\"}, {\"group\": \"1\", \"id\": \"1777\", \"label\": \"1777\", \"shape\": \"dot\", \"title\": \"1777\"}, {\"group\": \"1\", \"id\": \"452\", \"label\": \"452\", \"shape\": \"dot\", \"title\": \"452\"}, {\"group\": \"1\", \"id\": \"399\", \"label\": \"399\", \"shape\": \"dot\", \"title\": \"399\"}, {\"group\": \"1\", \"id\": \"1784\", \"label\": \"1784\", \"shape\": \"dot\", \"title\": \"1784\"}, {\"group\": \"1\", \"id\": \"134\", \"label\": \"134\", \"shape\": \"dot\", \"title\": \"134\"}, {\"group\": \"1\", \"id\": \"406\", \"label\": \"406\", \"shape\": \"dot\", \"title\": \"406\"}, {\"group\": \"1\", \"id\": \"135\", \"label\": \"135\", \"shape\": \"dot\", \"title\": \"135\"}, {\"group\": \"1\", \"id\": \"137\", \"label\": \"137\", \"shape\": \"dot\", \"title\": \"137\"}, {\"group\": \"1\", \"id\": \"2144\", \"label\": \"2144\", \"shape\": \"dot\", \"title\": \"2144\"}, {\"group\": \"1\", \"id\": \"136\", \"label\": \"136\", \"shape\": \"dot\", \"title\": \"136\"}, {\"group\": \"1\", \"id\": \"831\", \"label\": \"831\", \"shape\": \"dot\", \"title\": \"831\"}, {\"group\": \"1\", \"id\": \"2329\", \"label\": \"2329\", \"shape\": \"dot\", \"title\": \"2329\"}, {\"group\": \"1\", \"id\": \"2504\", \"label\": \"2504\", \"shape\": \"dot\", \"title\": \"2504\"}, {\"group\": \"1\", \"id\": \"138\", \"label\": \"138\", \"shape\": \"dot\", \"title\": \"138\"}, {\"group\": \"1\", \"id\": \"1776\", \"label\": \"1776\", \"shape\": \"dot\", \"title\": \"1776\"}, {\"group\": \"1\", \"id\": \"660\", \"label\": \"660\", \"shape\": \"dot\", \"title\": \"660\"}, {\"group\": \"1\", \"id\": \"1780\", \"label\": \"1780\", \"shape\": \"dot\", \"title\": \"1780\"}, {\"group\": \"1\", \"id\": \"910\", \"label\": \"910\", \"shape\": \"dot\", \"title\": \"910\"}]);\n",
              "        edges = new vis.DataSet([{\"from\": \"0\", \"to\": \"633\"}, {\"from\": \"0\", \"to\": \"1862\"}, {\"from\": \"0\", \"to\": \"2582\"}, {\"from\": \"1\", \"to\": \"2\"}, {\"from\": \"1\", \"to\": \"652\"}, {\"from\": \"1\", \"to\": \"654\"}, {\"from\": \"2\", \"to\": \"1986\"}, {\"from\": \"2\", \"to\": \"332\"}, {\"from\": \"2\", \"to\": \"1666\"}, {\"from\": \"2\", \"to\": \"1454\"}, {\"from\": \"3\", \"to\": \"2544\"}, {\"from\": \"4\", \"to\": \"2176\"}, {\"from\": \"4\", \"to\": \"1016\"}, {\"from\": \"4\", \"to\": \"1761\"}, {\"from\": \"4\", \"to\": \"1256\"}, {\"from\": \"4\", \"to\": \"2175\"}, {\"from\": \"5\", \"to\": \"1629\"}, {\"from\": \"5\", \"to\": \"2546\"}, {\"from\": \"5\", \"to\": \"1659\"}, {\"from\": \"6\", \"to\": \"1416\"}, {\"from\": \"6\", \"to\": \"1602\"}, {\"from\": \"6\", \"to\": \"1042\"}, {\"from\": \"6\", \"to\": \"373\"}, {\"from\": \"7\", \"to\": \"208\"}, {\"from\": \"8\", \"to\": \"281\"}, {\"from\": \"8\", \"to\": \"1996\"}, {\"from\": \"8\", \"to\": \"269\"}, {\"from\": \"9\", \"to\": \"2614\"}, {\"from\": \"9\", \"to\": \"723\"}, {\"from\": \"10\", \"to\": \"476\"}, {\"from\": \"10\", \"to\": \"2545\"}, {\"from\": \"11\", \"to\": \"1655\"}, {\"from\": \"11\", \"to\": \"1839\"}, {\"from\": \"12\", \"to\": \"2661\"}, {\"from\": \"12\", \"to\": \"1001\"}, {\"from\": \"12\", \"to\": \"1318\"}, {\"from\": \"12\", \"to\": \"2662\"}, {\"from\": \"13\", \"to\": \"1810\"}, {\"from\": \"13\", \"to\": \"1701\"}, {\"from\": \"14\", \"to\": \"2034\"}, {\"from\": \"14\", \"to\": \"2075\"}, {\"from\": \"14\", \"to\": \"158\"}, {\"from\": \"14\", \"to\": \"2077\"}, {\"from\": \"14\", \"to\": \"2668\"}, {\"from\": \"15\", \"to\": \"2367\"}, {\"from\": \"15\", \"to\": \"1093\"}, {\"from\": \"15\", \"to\": \"1090\"}, {\"from\": \"15\", \"to\": \"1271\"}, {\"from\": \"16\", \"to\": \"2444\"}, {\"from\": \"16\", \"to\": \"1632\"}, {\"from\": \"16\", \"to\": \"970\"}, {\"from\": \"16\", \"to\": \"2642\"}, {\"from\": \"17\", \"to\": \"24\"}, {\"from\": \"17\", \"to\": \"2140\"}, {\"from\": \"17\", \"to\": \"1316\"}, {\"from\": \"17\", \"to\": \"1315\"}, {\"from\": \"17\", \"to\": \"927\"}, {\"from\": \"18\", \"to\": \"2082\"}, {\"from\": \"18\", \"to\": \"139\"}, {\"from\": \"18\", \"to\": \"1786\"}, {\"from\": \"18\", \"to\": \"1560\"}, {\"from\": \"18\", \"to\": \"2145\"}, {\"from\": \"19\", \"to\": \"1939\"}, {\"from\": \"20\", \"to\": \"1072\"}, {\"from\": \"20\", \"to\": \"2374\"}, {\"from\": \"20\", \"to\": \"2375\"}, {\"from\": \"20\", \"to\": \"2269\"}, {\"from\": \"20\", \"to\": \"2270\"}, {\"from\": \"21\", \"to\": \"1043\"}, {\"from\": \"21\", \"to\": \"2310\"}, {\"from\": \"22\", \"to\": \"1703\"}, {\"from\": \"22\", \"to\": \"1702\"}, {\"from\": \"22\", \"to\": \"2238\"}, {\"from\": \"22\", \"to\": \"39\"}, {\"from\": \"22\", \"to\": \"1234\"}, {\"from\": \"23\", \"to\": \"2159\"}, {\"from\": \"24\", \"to\": \"1701\"}, {\"from\": \"24\", \"to\": \"2139\"}, {\"from\": \"24\", \"to\": \"1636\"}, {\"from\": \"24\", \"to\": \"2141\"}, {\"from\": \"24\", \"to\": \"598\"}, {\"from\": \"24\", \"to\": \"201\"}, {\"from\": \"25\", \"to\": \"1344\"}, {\"from\": \"25\", \"to\": \"2011\"}, {\"from\": \"25\", \"to\": \"1301\"}, {\"from\": \"25\", \"to\": \"2317\"}, {\"from\": \"26\", \"to\": \"2454\"}, {\"from\": \"26\", \"to\": \"2455\"}, {\"from\": \"26\", \"to\": \"123\"}, {\"from\": \"26\", \"to\": \"99\"}, {\"from\": \"26\", \"to\": \"122\"}, {\"from\": \"27\", \"to\": \"1810\"}, {\"from\": \"27\", \"to\": \"606\"}, {\"from\": \"27\", \"to\": \"2360\"}, {\"from\": \"27\", \"to\": \"2578\"}, {\"from\": \"28\", \"to\": \"1687\"}, {\"from\": \"29\", \"to\": \"963\"}, {\"from\": \"29\", \"to\": \"2645\"}, {\"from\": \"30\", \"to\": \"1358\"}, {\"from\": \"30\", \"to\": \"1416\"}, {\"from\": \"30\", \"to\": \"2162\"}, {\"from\": \"30\", \"to\": \"697\"}, {\"from\": \"30\", \"to\": \"2343\"}, {\"from\": \"30\", \"to\": \"738\"}, {\"from\": \"31\", \"to\": \"1594\"}, {\"from\": \"32\", \"to\": \"1973\"}, {\"from\": \"32\", \"to\": \"279\"}, {\"from\": \"32\", \"to\": \"518\"}, {\"from\": \"32\", \"to\": \"1850\"}, {\"from\": \"33\", \"to\": \"2119\"}, {\"from\": \"33\", \"to\": \"911\"}, {\"from\": \"33\", \"to\": \"588\"}, {\"from\": \"33\", \"to\": \"1051\"}, {\"from\": \"33\", \"to\": \"2120\"}, {\"from\": \"33\", \"to\": \"286\"}, {\"from\": \"33\", \"to\": \"2040\"}, {\"from\": \"33\", \"to\": \"2121\"}, {\"from\": \"33\", \"to\": \"698\"}, {\"from\": \"34\", \"to\": \"1358\"}, {\"from\": \"35\", \"to\": \"1296\"}, {\"from\": \"35\", \"to\": \"1913\"}, {\"from\": \"35\", \"to\": \"895\"}, {\"from\": \"36\", \"to\": \"1146\"}, {\"from\": \"36\", \"to\": \"1640\"}, {\"from\": \"36\", \"to\": \"1505\"}, {\"from\": \"36\", \"to\": \"2106\"}, {\"from\": \"36\", \"to\": \"1781\"}, {\"from\": \"36\", \"to\": \"2094\"}, {\"from\": \"36\", \"to\": \"1552\"}, {\"from\": \"36\", \"to\": \"2107\"}, {\"from\": \"37\", \"to\": \"2427\"}, {\"from\": \"37\", \"to\": \"1190\"}, {\"from\": \"37\", \"to\": \"60\"}, {\"from\": \"38\", \"to\": \"429\"}, {\"from\": \"38\", \"to\": \"1160\"}, {\"from\": \"38\", \"to\": \"862\"}, {\"from\": \"38\", \"to\": \"863\"}, {\"from\": \"39\", \"to\": \"1634\"}, {\"from\": \"39\", \"to\": \"1965\"}, {\"from\": \"39\", \"to\": \"1349\"}, {\"from\": \"39\", \"to\": \"1532\"}, {\"from\": \"39\", \"to\": \"1522\"}, {\"from\": \"39\", \"to\": \"2357\"}, {\"from\": \"40\", \"to\": \"507\"}, {\"from\": \"40\", \"to\": \"866\"}, {\"from\": \"40\", \"to\": \"1364\"}, {\"from\": \"41\", \"to\": \"1914\"}, {\"from\": \"41\", \"to\": \"644\"}, {\"from\": \"41\", \"to\": \"175\"}, {\"from\": \"41\", \"to\": \"596\"}, {\"from\": \"42\", \"to\": \"1372\"}, {\"from\": \"42\", \"to\": \"87\"}, {\"from\": \"43\", \"to\": \"963\"}, {\"from\": \"43\", \"to\": \"2399\"}, {\"from\": \"43\", \"to\": \"2400\"}, {\"from\": \"43\", \"to\": \"152\"}, {\"from\": \"43\", \"to\": \"1653\"}, {\"from\": \"43\", \"to\": \"1530\"}, {\"from\": \"44\", \"to\": \"1582\"}, {\"from\": \"44\", \"to\": \"2624\"}, {\"from\": \"44\", \"to\": \"2701\"}, {\"from\": \"45\", \"to\": \"1986\"}, {\"from\": \"45\", \"to\": \"733\"}, {\"from\": \"45\", \"to\": \"2303\"}, {\"from\": \"45\", \"to\": \"1219\"}, {\"from\": \"45\", \"to\": \"2667\"}, {\"from\": \"45\", \"to\": \"2668\"}, {\"from\": \"46\", \"to\": \"2366\"}, {\"from\": \"46\", \"to\": \"1604\"}, {\"from\": \"47\", \"to\": \"1579\"}, {\"from\": \"47\", \"to\": \"163\"}, {\"from\": \"48\", \"to\": \"598\"}, {\"from\": \"48\", \"to\": \"1666\"}, {\"from\": \"48\", \"to\": \"2471\"}, {\"from\": \"48\", \"to\": \"2205\"}, {\"from\": \"48\", \"to\": \"1031\"}, {\"from\": \"48\", \"to\": \"2041\"}, {\"from\": \"48\", \"to\": \"1662\"}, {\"from\": \"48\", \"to\": \"714\"}, {\"from\": \"48\", \"to\": \"2206\"}, {\"from\": \"49\", \"to\": \"2034\"}, {\"from\": \"49\", \"to\": \"1666\"}, {\"from\": \"50\", \"to\": \"1441\"}, {\"from\": \"51\", \"to\": \"710\"}, {\"from\": \"51\", \"to\": \"2214\"}, {\"from\": \"51\", \"to\": \"2215\"}, {\"from\": \"51\", \"to\": \"2213\"}, {\"from\": \"51\", \"to\": \"457\"}, {\"from\": \"51\", \"to\": \"1392\"}, {\"from\": \"52\", \"to\": \"1467\"}, {\"from\": \"52\", \"to\": \"2172\"}, {\"from\": \"52\", \"to\": \"2182\"}, {\"from\": \"52\", \"to\": \"1139\"}, {\"from\": \"52\", \"to\": \"2053\"}, {\"from\": \"53\", \"to\": \"1358\"}, {\"from\": \"53\", \"to\": \"1103\"}, {\"from\": \"53\", \"to\": \"1739\"}, {\"from\": \"54\", \"to\": \"767\"}, {\"from\": \"54\", \"to\": \"401\"}, {\"from\": \"55\", \"to\": \"210\"}, {\"from\": \"55\", \"to\": \"1983\"}, {\"from\": \"55\", \"to\": \"787\"}, {\"from\": \"55\", \"to\": \"2020\"}, {\"from\": \"55\", \"to\": \"1156\"}, {\"from\": \"55\", \"to\": \"771\"}, {\"from\": \"55\", \"to\": \"60\"}, {\"from\": \"55\", \"to\": \"815\"}, {\"from\": \"55\", \"to\": \"2021\"}, {\"from\": \"55\", \"to\": \"323\"}, {\"from\": \"55\", \"to\": \"651\"}, {\"from\": \"55\", \"to\": \"1079\"}, {\"from\": \"56\", \"to\": \"1616\"}, {\"from\": \"56\", \"to\": \"412\"}, {\"from\": \"56\", \"to\": \"447\"}, {\"from\": \"56\", \"to\": \"1849\"}, {\"from\": \"57\", \"to\": \"2418\"}, {\"from\": \"58\", \"to\": \"1715\"}, {\"from\": \"59\", \"to\": \"1358\"}, {\"from\": \"59\", \"to\": \"1725\"}, {\"from\": \"59\", \"to\": \"1627\"}, {\"from\": \"59\", \"to\": \"609\"}, {\"from\": \"59\", \"to\": \"615\"}, {\"from\": \"59\", \"to\": \"1287\"}, {\"from\": \"59\", \"to\": \"2651\"}, {\"from\": \"59\", \"to\": \"105\"}, {\"from\": \"59\", \"to\": \"580\"}, {\"from\": \"59\", \"to\": \"1067\"}, {\"from\": \"60\", \"to\": \"1527\"}, {\"from\": \"61\", \"to\": \"1416\"}, {\"from\": \"61\", \"to\": \"1309\"}, {\"from\": \"61\", \"to\": \"2162\"}, {\"from\": \"61\", \"to\": \"2312\"}, {\"from\": \"61\", \"to\": \"1080\"}, {\"from\": \"62\", \"to\": \"485\"}, {\"from\": \"63\", \"to\": \"1322\"}, {\"from\": \"64\", \"to\": \"1737\"}, {\"from\": \"64\", \"to\": \"1209\"}, {\"from\": \"64\", \"to\": \"2616\"}, {\"from\": \"65\", \"to\": \"1628\"}, {\"from\": \"65\", \"to\": \"2418\"}, {\"from\": \"65\", \"to\": \"2419\"}, {\"from\": \"65\", \"to\": \"543\"}, {\"from\": \"65\", \"to\": \"619\"}, {\"from\": \"65\", \"to\": \"1293\"}, {\"from\": \"65\", \"to\": \"1156\"}, {\"from\": \"65\", \"to\": \"771\"}, {\"from\": \"65\", \"to\": \"2021\"}, {\"from\": \"65\", \"to\": \"239\"}, {\"from\": \"66\", \"to\": \"2631\"}, {\"from\": \"67\", \"to\": \"540\"}, {\"from\": \"67\", \"to\": \"282\"}, {\"from\": \"67\", \"to\": \"2628\"}, {\"from\": \"68\", \"to\": \"1358\"}, {\"from\": \"68\", \"to\": \"1986\"}, {\"from\": \"68\", \"to\": \"391\"}, {\"from\": \"69\", \"to\": \"1013\"}, {\"from\": \"69\", \"to\": \"1914\"}, {\"from\": \"69\", \"to\": \"1926\"}, {\"from\": \"69\", \"to\": \"1351\"}, {\"from\": \"69\", \"to\": \"604\"}, {\"from\": \"69\", \"to\": \"1920\"}, {\"from\": \"69\", \"to\": \"2189\"}, {\"from\": \"70\", \"to\": \"441\"}, {\"from\": \"70\", \"to\": \"2184\"}, {\"from\": \"71\", \"to\": \"1986\"}, {\"from\": \"71\", \"to\": \"206\"}, {\"from\": \"71\", \"to\": \"2691\"}, {\"from\": \"72\", \"to\": \"1358\"}, {\"from\": \"72\", \"to\": \"1103\"}, {\"from\": \"73\", \"to\": \"1358\"}, {\"from\": \"73\", \"to\": \"797\"}, {\"from\": \"73\", \"to\": \"449\"}, {\"from\": \"73\", \"to\": \"1136\"}, {\"from\": \"73\", \"to\": \"558\"}, {\"from\": \"73\", \"to\": \"1723\"}, {\"from\": \"73\", \"to\": \"1189\"}, {\"from\": \"73\", \"to\": \"876\"}, {\"from\": \"73\", \"to\": \"1214\"}, {\"from\": \"73\", \"to\": \"1745\"}, {\"from\": \"73\", \"to\": \"1751\"}, {\"from\": \"73\", \"to\": \"1035\"}, {\"from\": \"74\", \"to\": \"1416\"}, {\"from\": \"74\", \"to\": \"586\"}, {\"from\": \"74\", \"to\": \"1042\"}, {\"from\": \"74\", \"to\": \"2155\"}, {\"from\": \"74\", \"to\": \"544\"}, {\"from\": \"74\", \"to\": \"2419\"}, {\"from\": \"74\", \"to\": \"1118\"}, {\"from\": \"74\", \"to\": \"1517\"}, {\"from\": \"74\", \"to\": \"2052\"}, {\"from\": \"75\", \"to\": \"2222\"}, {\"from\": \"75\", \"to\": \"2223\"}, {\"from\": \"75\", \"to\": \"2224\"}, {\"from\": \"75\", \"to\": \"2225\"}, {\"from\": \"75\", \"to\": \"84\"}, {\"from\": \"75\", \"to\": \"583\"}, {\"from\": \"76\", \"to\": \"88\"}, {\"from\": \"76\", \"to\": \"2018\"}, {\"from\": \"76\", \"to\": \"2178\"}, {\"from\": \"77\", \"to\": \"659\"}, {\"from\": \"77\", \"to\": \"1803\"}, {\"from\": \"78\", \"to\": \"1418\"}, {\"from\": \"78\", \"to\": \"1329\"}, {\"from\": \"78\", \"to\": \"1219\"}, {\"from\": \"79\", \"to\": \"2097\"}, {\"from\": \"79\", \"to\": \"603\"}, {\"from\": \"80\", \"to\": \"257\"}, {\"from\": \"80\", \"to\": \"2049\"}, {\"from\": \"80\", \"to\": \"1117\"}, {\"from\": \"81\", \"to\": \"2180\"}, {\"from\": \"81\", \"to\": \"347\"}, {\"from\": \"81\", \"to\": \"527\"}, {\"from\": \"81\", \"to\": \"423\"}, {\"from\": \"82\", \"to\": \"1634\"}, {\"from\": \"82\", \"to\": \"1138\"}, {\"from\": \"83\", \"to\": \"1520\"}, {\"from\": \"83\", \"to\": \"2581\"}, {\"from\": \"84\", \"to\": \"2224\"}, {\"from\": \"84\", \"to\": \"284\"}, {\"from\": \"84\", \"to\": \"2223\"}, {\"from\": \"84\", \"to\": \"2226\"}, {\"from\": \"85\", \"to\": \"1065\"}, {\"from\": \"85\", \"to\": \"2487\"}, {\"from\": \"85\", \"to\": \"2488\"}, {\"from\": \"86\", \"to\": \"1336\"}, {\"from\": \"86\", \"to\": \"2034\"}, {\"from\": \"86\", \"to\": \"429\"}, {\"from\": \"86\", \"to\": \"2295\"}, {\"from\": \"87\", \"to\": \"842\"}, {\"from\": \"87\", \"to\": \"2164\"}, {\"from\": \"88\", \"to\": \"2010\"}, {\"from\": \"88\", \"to\": \"130\"}, {\"from\": \"88\", \"to\": \"2011\"}, {\"from\": \"88\", \"to\": \"1677\"}, {\"from\": \"88\", \"to\": \"2012\"}, {\"from\": \"88\", \"to\": \"2013\"}, {\"from\": \"88\", \"to\": \"1713\"}, {\"from\": \"88\", \"to\": \"1658\"}, {\"from\": \"88\", \"to\": \"1394\"}, {\"from\": \"88\", \"to\": \"1288\"}, {\"from\": \"88\", \"to\": \"498\"}, {\"from\": \"88\", \"to\": \"696\"}, {\"from\": \"88\", \"to\": \"1882\"}, {\"from\": \"88\", \"to\": \"851\"}, {\"from\": \"88\", \"to\": \"743\"}, {\"from\": \"88\", \"to\": \"2014\"}, {\"from\": \"88\", \"to\": \"1732\"}, {\"from\": \"88\", \"to\": \"162\"}, {\"from\": \"88\", \"to\": \"841\"}, {\"from\": \"88\", \"to\": \"1494\"}, {\"from\": \"88\", \"to\": \"1908\"}, {\"from\": \"88\", \"to\": \"1741\"}, {\"from\": \"88\", \"to\": \"1174\"}, {\"from\": \"88\", \"to\": \"1309\"}, {\"from\": \"88\", \"to\": \"300\"}, {\"from\": \"88\", \"to\": \"1527\"}, {\"from\": \"88\", \"to\": \"1847\"}, {\"from\": \"88\", \"to\": \"815\"}, {\"from\": \"88\", \"to\": \"2015\"}, {\"from\": \"88\", \"to\": \"2016\"}, {\"from\": \"88\", \"to\": \"2017\"}, {\"from\": \"88\", \"to\": \"415\"}, {\"from\": \"88\", \"to\": \"737\"}, {\"from\": \"88\", \"to\": \"2394\"}, {\"from\": \"88\", \"to\": \"2178\"}, {\"from\": \"89\", \"to\": \"1087\"}, {\"from\": \"89\", \"to\": \"884\"}, {\"from\": \"89\", \"to\": \"1401\"}, {\"from\": \"89\", \"to\": \"2463\"}, {\"from\": \"89\", \"to\": \"1157\"}, {\"from\": \"89\", \"to\": \"1094\"}, {\"from\": \"89\", \"to\": \"258\"}, {\"from\": \"89\", \"to\": \"1653\"}, {\"from\": \"89\", \"to\": \"1530\"}, {\"from\": \"89\", \"to\": \"1585\"}, {\"from\": \"90\", \"to\": \"1358\"}, {\"from\": \"90\", \"to\": \"817\"}, {\"from\": \"90\", \"to\": \"155\"}, {\"from\": \"90\", \"to\": \"156\"}, {\"from\": \"91\", \"to\": \"2122\"}, {\"from\": \"91\", \"to\": \"2001\"}, {\"from\": \"91\", \"to\": \"330\"}, {\"from\": \"91\", \"to\": \"2380\"}, {\"from\": \"91\", \"to\": \"2123\"}, {\"from\": \"91\", \"to\": \"1046\"}, {\"from\": \"92\", \"to\": \"898\"}, {\"from\": \"92\", \"to\": \"1836\"}, {\"from\": \"93\", \"to\": \"2151\"}, {\"from\": \"93\", \"to\": \"550\"}, {\"from\": \"93\", \"to\": \"1495\"}, {\"from\": \"93\", \"to\": \"950\"}, {\"from\": \"94\", \"to\": \"1966\"}, {\"from\": \"94\", \"to\": \"586\"}, {\"from\": \"94\", \"to\": \"733\"}, {\"from\": \"94\", \"to\": \"1649\"}, {\"from\": \"94\", \"to\": \"2490\"}, {\"from\": \"94\", \"to\": \"195\"}, {\"from\": \"94\", \"to\": \"2355\"}, {\"from\": \"94\", \"to\": \"934\"}, {\"from\": \"94\", \"to\": \"2263\"}, {\"from\": \"94\", \"to\": \"2357\"}, {\"from\": \"94\", \"to\": \"675\"}, {\"from\": \"95\", \"to\": \"1535\"}, {\"from\": \"95\", \"to\": \"1838\"}, {\"from\": \"95\", \"to\": \"2200\"}, {\"from\": \"95\", \"to\": \"2201\"}, {\"from\": \"95\", \"to\": \"2197\"}, {\"from\": \"95\", \"to\": \"2199\"}, {\"from\": \"95\", \"to\": \"2181\"}, {\"from\": \"95\", \"to\": \"2054\"}, {\"from\": \"95\", \"to\": \"861\"}, {\"from\": \"95\", \"to\": \"334\"}, {\"from\": \"95\", \"to\": \"1303\"}, {\"from\": \"95\", \"to\": \"734\"}, {\"from\": \"95\", \"to\": \"736\"}, {\"from\": \"95\", \"to\": \"2074\"}, {\"from\": \"95\", \"to\": \"1628\"}, {\"from\": \"95\", \"to\": \"1602\"}, {\"from\": \"95\", \"to\": \"693\"}, {\"from\": \"95\", \"to\": \"456\"}, {\"from\": \"95\", \"to\": \"2183\"}, {\"from\": \"95\", \"to\": \"2182\"}, {\"from\": \"95\", \"to\": \"1580\"}, {\"from\": \"96\", \"to\": \"2217\"}, {\"from\": \"97\", \"to\": \"661\"}, {\"from\": \"97\", \"to\": \"1353\"}, {\"from\": \"98\", \"to\": \"1521\"}, {\"from\": \"99\", \"to\": \"123\"}, {\"from\": \"99\", \"to\": \"2454\"}, {\"from\": \"99\", \"to\": \"2455\"}, {\"from\": \"99\", \"to\": \"122\"}, {\"from\": \"99\", \"to\": \"2604\"}, {\"from\": \"100\", \"to\": \"1602\"}, {\"from\": \"100\", \"to\": \"2056\"}, {\"from\": \"101\", \"to\": \"1358\"}, {\"from\": \"101\", \"to\": \"281\"}, {\"from\": \"101\", \"to\": \"1589\"}, {\"from\": \"102\", \"to\": \"1623\"}, {\"from\": \"102\", \"to\": \"109\"}, {\"from\": \"102\", \"to\": \"1878\"}, {\"from\": \"102\", \"to\": \"1448\"}, {\"from\": \"102\", \"to\": \"2256\"}, {\"from\": \"102\", \"to\": \"1251\"}, {\"from\": \"102\", \"to\": \"1871\"}, {\"from\": \"102\", \"to\": \"1561\"}, {\"from\": \"103\", \"to\": \"139\"}, {\"from\": \"103\", \"to\": \"484\"}, {\"from\": \"103\", \"to\": \"306\"}, {\"from\": \"103\", \"to\": \"608\"}, {\"from\": \"103\", \"to\": \"1790\"}, {\"from\": \"103\", \"to\": \"1775\"}, {\"from\": \"104\", \"to\": \"2210\"}, {\"from\": \"104\", \"to\": \"864\"}, {\"from\": \"104\", \"to\": \"401\"}, {\"from\": \"104\", \"to\": \"1065\"}, {\"from\": \"105\", \"to\": \"1721\"}, {\"from\": \"105\", \"to\": \"2651\"}, {\"from\": \"105\", \"to\": \"2476\"}, {\"from\": \"106\", \"to\": \"2461\"}, {\"from\": \"107\", \"to\": \"541\"}, {\"from\": \"107\", \"to\": \"1113\"}, {\"from\": \"107\", \"to\": \"971\"}, {\"from\": \"107\", \"to\": \"1650\"}, {\"from\": \"108\", \"to\": \"2157\"}, {\"from\": \"108\", \"to\": \"1647\"}, {\"from\": \"108\", \"to\": \"2209\"}, {\"from\": \"109\", \"to\": \"1624\"}, {\"from\": \"109\", \"to\": \"2045\"}, {\"from\": \"109\", \"to\": \"236\"}, {\"from\": \"109\", \"to\": \"306\"}, {\"from\": \"109\", \"to\": \"124\"}, {\"from\": \"109\", \"to\": \"1769\"}, {\"from\": \"109\", \"to\": \"289\"}, {\"from\": \"109\", \"to\": \"2092\"}, {\"from\": \"109\", \"to\": \"459\"}, {\"from\": \"109\", \"to\": \"318\"}, {\"from\": \"109\", \"to\": \"2093\"}, {\"from\": \"109\", \"to\": \"1772\"}, {\"from\": \"109\", \"to\": \"1045\"}, {\"from\": \"109\", \"to\": \"1785\"}, {\"from\": \"109\", \"to\": \"1337\"}, {\"from\": \"109\", \"to\": \"1998\"}, {\"from\": \"109\", \"to\": \"1787\"}, {\"from\": \"109\", \"to\": \"610\"}, {\"from\": \"109\", \"to\": \"1789\"}, {\"from\": \"109\", \"to\": \"1779\"}, {\"from\": \"109\", \"to\": \"1346\"}, {\"from\": \"109\", \"to\": \"153\"}, {\"from\": \"109\", \"to\": \"519\"}, {\"from\": \"109\", \"to\": \"133\"}, {\"from\": \"109\", \"to\": \"1805\"}, {\"from\": \"109\", \"to\": \"426\"}, {\"from\": \"109\", \"to\": \"563\"}, {\"from\": \"109\", \"to\": \"2094\"}, {\"from\": \"109\", \"to\": \"176\"}, {\"from\": \"109\", \"to\": \"2095\"}, {\"from\": \"109\", \"to\": \"1661\"}, {\"from\": \"110\", \"to\": \"1262\"}, {\"from\": \"110\", \"to\": \"567\"}, {\"from\": \"110\", \"to\": \"2279\"}, {\"from\": \"110\", \"to\": \"1161\"}, {\"from\": \"110\", \"to\": \"1599\"}, {\"from\": \"111\", \"to\": \"1358\"}, {\"from\": \"111\", \"to\": \"1169\"}, {\"from\": \"111\", \"to\": \"2643\"}, {\"from\": \"111\", \"to\": \"758\"}, {\"from\": \"111\", \"to\": \"2492\"}, {\"from\": \"111\", \"to\": \"1762\"}, {\"from\": \"112\", \"to\": \"1623\"}, {\"from\": \"112\", \"to\": \"487\"}, {\"from\": \"112\", \"to\": \"306\"}, {\"from\": \"112\", \"to\": \"2080\"}, {\"from\": \"113\", \"to\": \"540\"}, {\"from\": \"113\", \"to\": \"747\"}, {\"from\": \"113\", \"to\": \"1884\"}, {\"from\": \"114\", \"to\": \"2288\"}, {\"from\": \"114\", \"to\": \"610\"}, {\"from\": \"114\", \"to\": \"2506\"}, {\"from\": \"115\", \"to\": \"973\"}, {\"from\": \"116\", \"to\": \"1076\"}, {\"from\": \"116\", \"to\": \"1501\"}, {\"from\": \"117\", \"to\": \"259\"}, {\"from\": \"117\", \"to\": \"2537\"}, {\"from\": \"118\", \"to\": \"1616\"}, {\"from\": \"118\", \"to\": \"388\"}, {\"from\": \"118\", \"to\": \"2010\"}, {\"from\": \"118\", \"to\": \"842\"}, {\"from\": \"118\", \"to\": \"2030\"}, {\"from\": \"118\", \"to\": \"446\"}, {\"from\": \"118\", \"to\": \"255\"}, {\"from\": \"118\", \"to\": \"1343\"}, {\"from\": \"118\", \"to\": \"2165\"}, {\"from\": \"118\", \"to\": \"554\"}, {\"from\": \"118\", \"to\": \"581\"}, {\"from\": \"118\", \"to\": \"1690\"}, {\"from\": \"118\", \"to\": \"1507\"}, {\"from\": \"118\", \"to\": \"2112\"}, {\"from\": \"118\", \"to\": \"1029\"}, {\"from\": \"118\", \"to\": \"2166\"}, {\"from\": \"118\", \"to\": \"1538\"}, {\"from\": \"118\", \"to\": \"454\"}, {\"from\": \"118\", \"to\": \"1851\"}, {\"from\": \"119\", \"to\": \"646\"}, {\"from\": \"119\", \"to\": \"1959\"}, {\"from\": \"119\", \"to\": \"379\"}, {\"from\": \"119\", \"to\": \"1549\"}, {\"from\": \"119\", \"to\": \"1901\"}, {\"from\": \"119\", \"to\": \"1537\"}, {\"from\": \"120\", \"to\": \"514\"}, {\"from\": \"120\", \"to\": \"2405\"}, {\"from\": \"120\", \"to\": \"1842\"}, {\"from\": \"120\", \"to\": \"483\"}, {\"from\": \"120\", \"to\": \"816\"}, {\"from\": \"121\", \"to\": \"1910\"}, {\"from\": \"121\", \"to\": \"980\"}, {\"from\": \"121\", \"to\": \"802\"}, {\"from\": \"121\", \"to\": \"1158\"}, {\"from\": \"121\", \"to\": \"2251\"}, {\"from\": \"121\", \"to\": \"589\"}, {\"from\": \"121\", \"to\": \"2252\"}, {\"from\": \"122\", \"to\": \"2454\"}, {\"from\": \"122\", \"to\": \"2455\"}, {\"from\": \"123\", \"to\": \"2455\"}, {\"from\": \"123\", \"to\": \"2604\"}, {\"from\": \"124\", \"to\": \"306\"}, {\"from\": \"124\", \"to\": \"1367\"}, {\"from\": \"124\", \"to\": \"1622\"}, {\"from\": \"124\", \"to\": \"2478\"}, {\"from\": \"125\", \"to\": \"458\"}, {\"from\": \"125\", \"to\": \"2363\"}, {\"from\": \"126\", \"to\": \"1623\"}, {\"from\": \"126\", \"to\": \"2045\"}, {\"from\": \"126\", \"to\": \"236\"}, {\"from\": \"126\", \"to\": \"306\"}, {\"from\": \"126\", \"to\": \"1551\"}, {\"from\": \"126\", \"to\": \"2079\"}, {\"from\": \"127\", \"to\": \"2604\"}, {\"from\": \"128\", \"to\": \"233\"}, {\"from\": \"128\", \"to\": \"392\"}, {\"from\": \"128\", \"to\": \"370\"}, {\"from\": \"128\", \"to\": \"2270\"}, {\"from\": \"129\", \"to\": \"441\"}, {\"from\": \"129\", \"to\": \"701\"}, {\"from\": \"130\", \"to\": \"2017\"}, {\"from\": \"130\", \"to\": \"1982\"}, {\"from\": \"131\", \"to\": \"2169\"}, {\"from\": \"131\", \"to\": \"834\"}, {\"from\": \"132\", \"to\": \"904\"}, {\"from\": \"132\", \"to\": \"1022\"}, {\"from\": \"132\", \"to\": \"1959\"}, {\"from\": \"132\", \"to\": \"379\"}, {\"from\": \"132\", \"to\": \"479\"}, {\"from\": \"133\", \"to\": \"1623\"}, {\"from\": \"133\", \"to\": \"2045\"}, {\"from\": \"133\", \"to\": \"1670\"}, {\"from\": \"133\", \"to\": \"2082\"}, {\"from\": \"133\", \"to\": \"1777\"}, {\"from\": \"133\", \"to\": \"452\"}, {\"from\": \"133\", \"to\": \"399\"}, {\"from\": \"133\", \"to\": \"1784\"}, {\"from\": \"134\", \"to\": \"406\"}, {\"from\": \"135\", \"to\": \"137\"}, {\"from\": \"135\", \"to\": \"2144\"}, {\"from\": \"135\", \"to\": \"2095\"}, {\"from\": \"136\", \"to\": \"831\"}, {\"from\": \"137\", \"to\": \"2144\"}, {\"from\": \"137\", \"to\": \"2329\"}, {\"from\": \"137\", \"to\": \"2504\"}, {\"from\": \"138\", \"to\": \"236\"}, {\"from\": \"138\", \"to\": \"306\"}, {\"from\": \"138\", \"to\": \"1776\"}, {\"from\": \"139\", \"to\": \"1623\"}, {\"from\": \"139\", \"to\": \"660\"}, {\"from\": \"139\", \"to\": \"1780\"}, {\"from\": \"139\", \"to\": \"910\"}, {\"from\": \"139\", \"to\": \"2045\"}, {\"from\": \"139\", \"to\": \"306\"}]);\n",
              "\n",
              "        // adding nodes and edges to the graph\n",
              "        data = {nodes: nodes, edges: edges};\n",
              "\n",
              "        var options = {\n",
              "    \"configure\": {\n",
              "        \"enabled\": true,\n",
              "        \"filter\": [\n",
              "            \"physics\"\n",
              "        ]\n",
              "    },\n",
              "    \"edges\": {\n",
              "        \"color\": {\n",
              "            \"inherit\": true\n",
              "        },\n",
              "        \"smooth\": {\n",
              "            \"enabled\": false,\n",
              "            \"type\": \"continuous\"\n",
              "        }\n",
              "    },\n",
              "    \"interaction\": {\n",
              "        \"dragNodes\": true,\n",
              "        \"hideEdgesOnDrag\": false,\n",
              "        \"hideNodesOnDrag\": false\n",
              "    },\n",
              "    \"physics\": {\n",
              "        \"enabled\": true,\n",
              "        \"stabilization\": {\n",
              "            \"enabled\": true,\n",
              "            \"fit\": true,\n",
              "            \"iterations\": 1000,\n",
              "            \"onlyDynamicEdges\": false,\n",
              "            \"updateInterval\": 50\n",
              "        }\n",
              "    }\n",
              "};\n",
              "        \n",
              "        \n",
              "\n",
              "        \n",
              "        // if this network requires displaying the configure window,\n",
              "        // put it in its div\n",
              "        options.configure[\"container\"] = document.getElementById(\"config\");\n",
              "        \n",
              "\n",
              "        network = new vis.Network(container, data, options);\n",
              "\t \n",
              "        \n",
              "\n",
              "\n",
              "        \n",
              "        network.on(\"stabilizationProgress\", function(params) {\n",
              "      \t\tdocument.getElementById('loadingBar').removeAttribute(\"style\");\n",
              "\t        var maxWidth = 496;\n",
              "\t        var minWidth = 20;\n",
              "\t        var widthFactor = params.iterations/params.total;\n",
              "\t        var width = Math.max(minWidth,maxWidth * widthFactor);\n",
              "\n",
              "\t        document.getElementById('bar').style.width = width + 'px';\n",
              "\t        document.getElementById('text').innerHTML = Math.round(widthFactor*100) + '%';\n",
              "\t    });\n",
              "\t    network.once(\"stabilizationIterationsDone\", function() {\n",
              "\t        document.getElementById('text').innerHTML = '100%';\n",
              "\t        document.getElementById('bar').style.width = '496px';\n",
              "\t        document.getElementById('loadingBar').style.opacity = 0;\n",
              "\t        // really clean the dom element\n",
              "\t        setTimeout(function () {document.getElementById('loadingBar').style.display = 'none';}, 500);\n",
              "\t    });\n",
              "        \n",
              "\n",
              "        return network;\n",
              "\n",
              "    }\n",
              "\n",
              "    drawGraph();\n",
              "\n",
              "</script>\n",
              "</body>\n",
              "</html>"
            ],
            "text/plain": [
              "<IPython.core.display.HTML object>"
            ]
          },
          "metadata": {
            "tags": []
          },
          "execution_count": 106
        }
      ]
    },
    {
      "cell_type": "code",
      "metadata": {
        "colab": {
          "base_uri": "https://localhost:8080/",
          "height": 392
        },
        "id": "gM5EPSv1zutQ",
        "outputId": "a8ba1f56-7ec8-4b69-a21f-ff8f8840d04f"
      },
      "source": [
        "g_render.show_buttons(filter_=['physics'])\n",
        "g_render.show('nt.html')\n",
        "#import IPython\n",
        "#IPython.display.HTML(filename='/content/nx.html')"
      ],
      "execution_count": 77,
      "outputs": [
        {
          "output_type": "error",
          "ename": "TypeError",
          "evalue": "ignored",
          "traceback": [
            "\u001b[0;31m---------------------------------------------------------------------------\u001b[0m",
            "\u001b[0;31mTypeError\u001b[0m                                 Traceback (most recent call last)",
            "\u001b[0;32m<ipython-input-77-090b3fe7c7b8>\u001b[0m in \u001b[0;36m<module>\u001b[0;34m()\u001b[0m\n\u001b[1;32m      1\u001b[0m \u001b[0mg_render\u001b[0m\u001b[0;34m.\u001b[0m\u001b[0mshow_buttons\u001b[0m\u001b[0;34m(\u001b[0m\u001b[0mfilter_\u001b[0m\u001b[0;34m=\u001b[0m\u001b[0;34m[\u001b[0m\u001b[0;34m'physics'\u001b[0m\u001b[0;34m]\u001b[0m\u001b[0;34m)\u001b[0m\u001b[0;34m\u001b[0m\u001b[0;34m\u001b[0m\u001b[0m\n\u001b[0;32m----> 2\u001b[0;31m \u001b[0mg_render\u001b[0m\u001b[0;34m.\u001b[0m\u001b[0mshow\u001b[0m\u001b[0;34m(\u001b[0m\u001b[0;34m'nt.html'\u001b[0m\u001b[0;34m)\u001b[0m\u001b[0;34m\u001b[0m\u001b[0;34m\u001b[0m\u001b[0m\n\u001b[0m\u001b[1;32m      3\u001b[0m \u001b[0;31m#import IPython\u001b[0m\u001b[0;34m\u001b[0m\u001b[0;34m\u001b[0m\u001b[0;34m\u001b[0m\u001b[0m\n\u001b[1;32m      4\u001b[0m \u001b[0;31m#IPython.display.HTML(filename='/content/nx.html')\u001b[0m\u001b[0;34m\u001b[0m\u001b[0;34m\u001b[0m\u001b[0;34m\u001b[0m\u001b[0m\n",
            "\u001b[0;32m/usr/local/lib/python3.7/dist-packages/pyvis/network.py\u001b[0m in \u001b[0;36mshow\u001b[0;34m(self, name)\u001b[0m\n\u001b[1;32m    474\u001b[0m         \u001b[0mcheck_html\u001b[0m\u001b[0;34m(\u001b[0m\u001b[0mname\u001b[0m\u001b[0;34m)\u001b[0m\u001b[0;34m\u001b[0m\u001b[0;34m\u001b[0m\u001b[0m\n\u001b[1;32m    475\u001b[0m         \u001b[0;32mif\u001b[0m \u001b[0mself\u001b[0m\u001b[0;34m.\u001b[0m\u001b[0mtemplate\u001b[0m \u001b[0;32mis\u001b[0m \u001b[0;32mnot\u001b[0m \u001b[0;32mNone\u001b[0m\u001b[0;34m:\u001b[0m\u001b[0;34m\u001b[0m\u001b[0;34m\u001b[0m\u001b[0m\n\u001b[0;32m--> 476\u001b[0;31m             \u001b[0;32mreturn\u001b[0m \u001b[0mself\u001b[0m\u001b[0;34m.\u001b[0m\u001b[0mwrite_html\u001b[0m\u001b[0;34m(\u001b[0m\u001b[0mname\u001b[0m\u001b[0;34m,\u001b[0m \u001b[0mnotebook\u001b[0m\u001b[0;34m=\u001b[0m\u001b[0;32mTrue\u001b[0m\u001b[0;34m)\u001b[0m\u001b[0;34m\u001b[0m\u001b[0;34m\u001b[0m\u001b[0m\n\u001b[0m\u001b[1;32m    477\u001b[0m         \u001b[0;32melse\u001b[0m\u001b[0;34m:\u001b[0m\u001b[0;34m\u001b[0m\u001b[0;34m\u001b[0m\u001b[0m\n\u001b[1;32m    478\u001b[0m             \u001b[0mself\u001b[0m\u001b[0;34m.\u001b[0m\u001b[0mwrite_html\u001b[0m\u001b[0;34m(\u001b[0m\u001b[0mname\u001b[0m\u001b[0;34m)\u001b[0m\u001b[0;34m\u001b[0m\u001b[0;34m\u001b[0m\u001b[0m\n",
            "\u001b[0;32m/usr/local/lib/python3.7/dist-packages/pyvis/network.py\u001b[0m in \u001b[0;36mwrite_html\u001b[0;34m(self, name, notebook)\u001b[0m\n\u001b[1;32m    457\u001b[0m                                     \u001b[0mbgcolor\u001b[0m\u001b[0;34m=\u001b[0m\u001b[0mself\u001b[0m\u001b[0;34m.\u001b[0m\u001b[0mbgcolor\u001b[0m\u001b[0;34m,\u001b[0m\u001b[0;34m\u001b[0m\u001b[0;34m\u001b[0m\u001b[0m\n\u001b[1;32m    458\u001b[0m                                     \u001b[0mconf\u001b[0m\u001b[0;34m=\u001b[0m\u001b[0mself\u001b[0m\u001b[0;34m.\u001b[0m\u001b[0mconf\u001b[0m\u001b[0;34m,\u001b[0m\u001b[0;34m\u001b[0m\u001b[0;34m\u001b[0m\u001b[0m\n\u001b[0;32m--> 459\u001b[0;31m                                     tooltip_link=use_link_template)\n\u001b[0m\u001b[1;32m    460\u001b[0m \u001b[0;34m\u001b[0m\u001b[0m\n\u001b[1;32m    461\u001b[0m         \u001b[0;32mwith\u001b[0m \u001b[0mopen\u001b[0m\u001b[0;34m(\u001b[0m\u001b[0mname\u001b[0m\u001b[0;34m,\u001b[0m \u001b[0;34m\"w+\"\u001b[0m\u001b[0;34m)\u001b[0m \u001b[0;32mas\u001b[0m \u001b[0mout\u001b[0m\u001b[0;34m:\u001b[0m\u001b[0;34m\u001b[0m\u001b[0;34m\u001b[0m\u001b[0m\n",
            "\u001b[0;32m/usr/local/lib/python3.7/dist-packages/jinja2/environment.py\u001b[0m in \u001b[0;36mrender\u001b[0;34m(self, *args, **kwargs)\u001b[0m\n\u001b[1;32m   1088\u001b[0m             \u001b[0;32mreturn\u001b[0m \u001b[0mconcat\u001b[0m\u001b[0;34m(\u001b[0m\u001b[0mself\u001b[0m\u001b[0;34m.\u001b[0m\u001b[0mroot_render_func\u001b[0m\u001b[0;34m(\u001b[0m\u001b[0mself\u001b[0m\u001b[0;34m.\u001b[0m\u001b[0mnew_context\u001b[0m\u001b[0;34m(\u001b[0m\u001b[0mvars\u001b[0m\u001b[0;34m)\u001b[0m\u001b[0;34m)\u001b[0m\u001b[0;34m)\u001b[0m\u001b[0;34m\u001b[0m\u001b[0;34m\u001b[0m\u001b[0m\n\u001b[1;32m   1089\u001b[0m         \u001b[0;32mexcept\u001b[0m \u001b[0mException\u001b[0m\u001b[0;34m:\u001b[0m\u001b[0;34m\u001b[0m\u001b[0;34m\u001b[0m\u001b[0m\n\u001b[0;32m-> 1090\u001b[0;31m             \u001b[0mself\u001b[0m\u001b[0;34m.\u001b[0m\u001b[0menvironment\u001b[0m\u001b[0;34m.\u001b[0m\u001b[0mhandle_exception\u001b[0m\u001b[0;34m(\u001b[0m\u001b[0;34m)\u001b[0m\u001b[0;34m\u001b[0m\u001b[0;34m\u001b[0m\u001b[0m\n\u001b[0m\u001b[1;32m   1091\u001b[0m \u001b[0;34m\u001b[0m\u001b[0m\n\u001b[1;32m   1092\u001b[0m     \u001b[0;32mdef\u001b[0m \u001b[0mrender_async\u001b[0m\u001b[0;34m(\u001b[0m\u001b[0mself\u001b[0m\u001b[0;34m,\u001b[0m \u001b[0;34m*\u001b[0m\u001b[0margs\u001b[0m\u001b[0;34m,\u001b[0m \u001b[0;34m**\u001b[0m\u001b[0mkwargs\u001b[0m\u001b[0;34m)\u001b[0m\u001b[0;34m:\u001b[0m\u001b[0;34m\u001b[0m\u001b[0;34m\u001b[0m\u001b[0m\n",
            "\u001b[0;32m/usr/local/lib/python3.7/dist-packages/jinja2/environment.py\u001b[0m in \u001b[0;36mhandle_exception\u001b[0;34m(self, source)\u001b[0m\n\u001b[1;32m    830\u001b[0m         \u001b[0;32mfrom\u001b[0m \u001b[0;34m.\u001b[0m\u001b[0mdebug\u001b[0m \u001b[0;32mimport\u001b[0m \u001b[0mrewrite_traceback_stack\u001b[0m\u001b[0;34m\u001b[0m\u001b[0;34m\u001b[0m\u001b[0m\n\u001b[1;32m    831\u001b[0m \u001b[0;34m\u001b[0m\u001b[0m\n\u001b[0;32m--> 832\u001b[0;31m         \u001b[0mreraise\u001b[0m\u001b[0;34m(\u001b[0m\u001b[0;34m*\u001b[0m\u001b[0mrewrite_traceback_stack\u001b[0m\u001b[0;34m(\u001b[0m\u001b[0msource\u001b[0m\u001b[0;34m=\u001b[0m\u001b[0msource\u001b[0m\u001b[0;34m)\u001b[0m\u001b[0;34m)\u001b[0m\u001b[0;34m\u001b[0m\u001b[0;34m\u001b[0m\u001b[0m\n\u001b[0m\u001b[1;32m    833\u001b[0m \u001b[0;34m\u001b[0m\u001b[0m\n\u001b[1;32m    834\u001b[0m     \u001b[0;32mdef\u001b[0m \u001b[0mjoin_path\u001b[0m\u001b[0;34m(\u001b[0m\u001b[0mself\u001b[0m\u001b[0;34m,\u001b[0m \u001b[0mtemplate\u001b[0m\u001b[0;34m,\u001b[0m \u001b[0mparent\u001b[0m\u001b[0;34m)\u001b[0m\u001b[0;34m:\u001b[0m\u001b[0;34m\u001b[0m\u001b[0;34m\u001b[0m\u001b[0m\n",
            "\u001b[0;32m/usr/local/lib/python3.7/dist-packages/jinja2/_compat.py\u001b[0m in \u001b[0;36mreraise\u001b[0;34m(tp, value, tb)\u001b[0m\n\u001b[1;32m     26\u001b[0m     \u001b[0;32mdef\u001b[0m \u001b[0mreraise\u001b[0m\u001b[0;34m(\u001b[0m\u001b[0mtp\u001b[0m\u001b[0;34m,\u001b[0m \u001b[0mvalue\u001b[0m\u001b[0;34m,\u001b[0m \u001b[0mtb\u001b[0m\u001b[0;34m=\u001b[0m\u001b[0;32mNone\u001b[0m\u001b[0;34m)\u001b[0m\u001b[0;34m:\u001b[0m\u001b[0;34m\u001b[0m\u001b[0;34m\u001b[0m\u001b[0m\n\u001b[1;32m     27\u001b[0m         \u001b[0;32mif\u001b[0m \u001b[0mvalue\u001b[0m\u001b[0;34m.\u001b[0m\u001b[0m__traceback__\u001b[0m \u001b[0;32mis\u001b[0m \u001b[0;32mnot\u001b[0m \u001b[0mtb\u001b[0m\u001b[0;34m:\u001b[0m\u001b[0;34m\u001b[0m\u001b[0;34m\u001b[0m\u001b[0m\n\u001b[0;32m---> 28\u001b[0;31m             \u001b[0;32mraise\u001b[0m \u001b[0mvalue\u001b[0m\u001b[0;34m.\u001b[0m\u001b[0mwith_traceback\u001b[0m\u001b[0;34m(\u001b[0m\u001b[0mtb\u001b[0m\u001b[0;34m)\u001b[0m\u001b[0;34m\u001b[0m\u001b[0;34m\u001b[0m\u001b[0m\n\u001b[0m\u001b[1;32m     29\u001b[0m         \u001b[0;32mraise\u001b[0m \u001b[0mvalue\u001b[0m\u001b[0;34m\u001b[0m\u001b[0;34m\u001b[0m\u001b[0m\n\u001b[1;32m     30\u001b[0m \u001b[0;34m\u001b[0m\u001b[0m\n",
            "\u001b[0;32m<template>\u001b[0m in \u001b[0;36mtop-level template code\u001b[0;34m()\u001b[0m\n",
            "\u001b[0;32m/usr/local/lib/python3.7/dist-packages/jinja2/filters.py\u001b[0m in \u001b[0;36mdo_tojson\u001b[0;34m(eval_ctx, value, indent)\u001b[0m\n\u001b[1;32m   1258\u001b[0m         \u001b[0moptions\u001b[0m \u001b[0;34m=\u001b[0m \u001b[0mdict\u001b[0m\u001b[0;34m(\u001b[0m\u001b[0moptions\u001b[0m\u001b[0;34m)\u001b[0m\u001b[0;34m\u001b[0m\u001b[0;34m\u001b[0m\u001b[0m\n\u001b[1;32m   1259\u001b[0m         \u001b[0moptions\u001b[0m\u001b[0;34m[\u001b[0m\u001b[0;34m\"indent\"\u001b[0m\u001b[0;34m]\u001b[0m \u001b[0;34m=\u001b[0m \u001b[0mindent\u001b[0m\u001b[0;34m\u001b[0m\u001b[0;34m\u001b[0m\u001b[0m\n\u001b[0;32m-> 1260\u001b[0;31m     \u001b[0;32mreturn\u001b[0m \u001b[0mhtmlsafe_json_dumps\u001b[0m\u001b[0;34m(\u001b[0m\u001b[0mvalue\u001b[0m\u001b[0;34m,\u001b[0m \u001b[0mdumper\u001b[0m\u001b[0;34m=\u001b[0m\u001b[0mdumper\u001b[0m\u001b[0;34m,\u001b[0m \u001b[0;34m**\u001b[0m\u001b[0moptions\u001b[0m\u001b[0;34m)\u001b[0m\u001b[0;34m\u001b[0m\u001b[0;34m\u001b[0m\u001b[0m\n\u001b[0m\u001b[1;32m   1261\u001b[0m \u001b[0;34m\u001b[0m\u001b[0m\n\u001b[1;32m   1262\u001b[0m \u001b[0;34m\u001b[0m\u001b[0m\n",
            "\u001b[0;32m/usr/local/lib/python3.7/dist-packages/jinja2/utils.py\u001b[0m in \u001b[0;36mhtmlsafe_json_dumps\u001b[0;34m(obj, dumper, **kwargs)\u001b[0m\n\u001b[1;32m    617\u001b[0m         \u001b[0mdumper\u001b[0m \u001b[0;34m=\u001b[0m \u001b[0mjson\u001b[0m\u001b[0;34m.\u001b[0m\u001b[0mdumps\u001b[0m\u001b[0;34m\u001b[0m\u001b[0;34m\u001b[0m\u001b[0m\n\u001b[1;32m    618\u001b[0m     rv = (\n\u001b[0;32m--> 619\u001b[0;31m         \u001b[0mdumper\u001b[0m\u001b[0;34m(\u001b[0m\u001b[0mobj\u001b[0m\u001b[0;34m,\u001b[0m \u001b[0;34m**\u001b[0m\u001b[0mkwargs\u001b[0m\u001b[0;34m)\u001b[0m\u001b[0;34m\u001b[0m\u001b[0;34m\u001b[0m\u001b[0m\n\u001b[0m\u001b[1;32m    620\u001b[0m         \u001b[0;34m.\u001b[0m\u001b[0mreplace\u001b[0m\u001b[0;34m(\u001b[0m\u001b[0;34mu\"<\"\u001b[0m\u001b[0;34m,\u001b[0m \u001b[0;34mu\"\\\\u003c\"\u001b[0m\u001b[0;34m)\u001b[0m\u001b[0;34m\u001b[0m\u001b[0;34m\u001b[0m\u001b[0m\n\u001b[1;32m    621\u001b[0m         \u001b[0;34m.\u001b[0m\u001b[0mreplace\u001b[0m\u001b[0;34m(\u001b[0m\u001b[0;34mu\">\"\u001b[0m\u001b[0;34m,\u001b[0m \u001b[0;34mu\"\\\\u003e\"\u001b[0m\u001b[0;34m)\u001b[0m\u001b[0;34m\u001b[0m\u001b[0;34m\u001b[0m\u001b[0m\n",
            "\u001b[0;32m/usr/lib/python3.7/json/__init__.py\u001b[0m in \u001b[0;36mdumps\u001b[0;34m(obj, skipkeys, ensure_ascii, check_circular, allow_nan, cls, indent, separators, default, sort_keys, **kw)\u001b[0m\n\u001b[1;32m    236\u001b[0m         \u001b[0mcheck_circular\u001b[0m\u001b[0;34m=\u001b[0m\u001b[0mcheck_circular\u001b[0m\u001b[0;34m,\u001b[0m \u001b[0mallow_nan\u001b[0m\u001b[0;34m=\u001b[0m\u001b[0mallow_nan\u001b[0m\u001b[0;34m,\u001b[0m \u001b[0mindent\u001b[0m\u001b[0;34m=\u001b[0m\u001b[0mindent\u001b[0m\u001b[0;34m,\u001b[0m\u001b[0;34m\u001b[0m\u001b[0;34m\u001b[0m\u001b[0m\n\u001b[1;32m    237\u001b[0m         \u001b[0mseparators\u001b[0m\u001b[0;34m=\u001b[0m\u001b[0mseparators\u001b[0m\u001b[0;34m,\u001b[0m \u001b[0mdefault\u001b[0m\u001b[0;34m=\u001b[0m\u001b[0mdefault\u001b[0m\u001b[0;34m,\u001b[0m \u001b[0msort_keys\u001b[0m\u001b[0;34m=\u001b[0m\u001b[0msort_keys\u001b[0m\u001b[0;34m,\u001b[0m\u001b[0;34m\u001b[0m\u001b[0;34m\u001b[0m\u001b[0m\n\u001b[0;32m--> 238\u001b[0;31m         **kw).encode(obj)\n\u001b[0m\u001b[1;32m    239\u001b[0m \u001b[0;34m\u001b[0m\u001b[0m\n\u001b[1;32m    240\u001b[0m \u001b[0;34m\u001b[0m\u001b[0m\n",
            "\u001b[0;32m/usr/lib/python3.7/json/encoder.py\u001b[0m in \u001b[0;36mencode\u001b[0;34m(self, o)\u001b[0m\n\u001b[1;32m    197\u001b[0m         \u001b[0;31m# exceptions aren't as detailed.  The list call should be roughly\u001b[0m\u001b[0;34m\u001b[0m\u001b[0;34m\u001b[0m\u001b[0;34m\u001b[0m\u001b[0m\n\u001b[1;32m    198\u001b[0m         \u001b[0;31m# equivalent to the PySequence_Fast that ''.join() would do.\u001b[0m\u001b[0;34m\u001b[0m\u001b[0;34m\u001b[0m\u001b[0;34m\u001b[0m\u001b[0m\n\u001b[0;32m--> 199\u001b[0;31m         \u001b[0mchunks\u001b[0m \u001b[0;34m=\u001b[0m \u001b[0mself\u001b[0m\u001b[0;34m.\u001b[0m\u001b[0miterencode\u001b[0m\u001b[0;34m(\u001b[0m\u001b[0mo\u001b[0m\u001b[0;34m,\u001b[0m \u001b[0m_one_shot\u001b[0m\u001b[0;34m=\u001b[0m\u001b[0;32mTrue\u001b[0m\u001b[0;34m)\u001b[0m\u001b[0;34m\u001b[0m\u001b[0;34m\u001b[0m\u001b[0m\n\u001b[0m\u001b[1;32m    200\u001b[0m         \u001b[0;32mif\u001b[0m \u001b[0;32mnot\u001b[0m \u001b[0misinstance\u001b[0m\u001b[0;34m(\u001b[0m\u001b[0mchunks\u001b[0m\u001b[0;34m,\u001b[0m \u001b[0;34m(\u001b[0m\u001b[0mlist\u001b[0m\u001b[0;34m,\u001b[0m \u001b[0mtuple\u001b[0m\u001b[0;34m)\u001b[0m\u001b[0;34m)\u001b[0m\u001b[0;34m:\u001b[0m\u001b[0;34m\u001b[0m\u001b[0;34m\u001b[0m\u001b[0m\n\u001b[1;32m    201\u001b[0m             \u001b[0mchunks\u001b[0m \u001b[0;34m=\u001b[0m \u001b[0mlist\u001b[0m\u001b[0;34m(\u001b[0m\u001b[0mchunks\u001b[0m\u001b[0;34m)\u001b[0m\u001b[0;34m\u001b[0m\u001b[0;34m\u001b[0m\u001b[0m\n",
            "\u001b[0;32m/usr/lib/python3.7/json/encoder.py\u001b[0m in \u001b[0;36miterencode\u001b[0;34m(self, o, _one_shot)\u001b[0m\n\u001b[1;32m    255\u001b[0m                 \u001b[0mself\u001b[0m\u001b[0;34m.\u001b[0m\u001b[0mkey_separator\u001b[0m\u001b[0;34m,\u001b[0m \u001b[0mself\u001b[0m\u001b[0;34m.\u001b[0m\u001b[0mitem_separator\u001b[0m\u001b[0;34m,\u001b[0m \u001b[0mself\u001b[0m\u001b[0;34m.\u001b[0m\u001b[0msort_keys\u001b[0m\u001b[0;34m,\u001b[0m\u001b[0;34m\u001b[0m\u001b[0;34m\u001b[0m\u001b[0m\n\u001b[1;32m    256\u001b[0m                 self.skipkeys, _one_shot)\n\u001b[0;32m--> 257\u001b[0;31m         \u001b[0;32mreturn\u001b[0m \u001b[0m_iterencode\u001b[0m\u001b[0;34m(\u001b[0m\u001b[0mo\u001b[0m\u001b[0;34m,\u001b[0m \u001b[0;36m0\u001b[0m\u001b[0;34m)\u001b[0m\u001b[0;34m\u001b[0m\u001b[0;34m\u001b[0m\u001b[0m\n\u001b[0m\u001b[1;32m    258\u001b[0m \u001b[0;34m\u001b[0m\u001b[0m\n\u001b[1;32m    259\u001b[0m def _make_iterencode(markers, _default, _encoder, _indent, _floatstr,\n",
            "\u001b[0;32m/usr/lib/python3.7/json/encoder.py\u001b[0m in \u001b[0;36mdefault\u001b[0;34m(self, o)\u001b[0m\n\u001b[1;32m    177\u001b[0m \u001b[0;34m\u001b[0m\u001b[0m\n\u001b[1;32m    178\u001b[0m         \"\"\"\n\u001b[0;32m--> 179\u001b[0;31m         raise TypeError(f'Object of type {o.__class__.__name__} '\n\u001b[0m\u001b[1;32m    180\u001b[0m                         f'is not JSON serializable')\n\u001b[1;32m    181\u001b[0m \u001b[0;34m\u001b[0m\u001b[0m\n",
            "\u001b[0;31mTypeError\u001b[0m: Object of type int64 is not JSON serializable"
          ]
        }
      ]
    },
    {
      "cell_type": "code",
      "metadata": {
        "colab": {
          "base_uri": "https://localhost:8080/"
        },
        "id": "J3QgWsaC1qya",
        "outputId": "50a1e743-0823-4f52-ffce-efceee56a868"
      },
      "source": [
        "g.ndata"
      ],
      "execution_count": 40,
      "outputs": [
        {
          "output_type": "execute_result",
          "data": {
            "text/plain": [
              "{'h': tensor([[0.0453, 0.1327, 0.0000,  ..., 0.8593, 2.1278, 1.5715],\n",
              "        [0.7761, 1.9361, 0.0000,  ..., 0.1356, 0.0822, 0.2471],\n",
              "        [1.8366, 7.8984, 0.0000,  ..., 1.1115, 2.8987, 0.8423],\n",
              "        ...,\n",
              "        [0.1754, 0.2267, 0.0000,  ..., 0.2568, 0.2396, 0.3689],\n",
              "        [0.3103, 1.7619, 0.0000,  ..., 0.6582, 1.1252, 0.9099],\n",
              "        [0.6374, 1.8340, 0.0000,  ..., 2.7867, 4.7241, 3.6294]])}"
            ]
          },
          "metadata": {
            "tags": []
          },
          "execution_count": 40
        }
      ]
    },
    {
      "cell_type": "code",
      "metadata": {
        "id": "IX6cNVpt20Mh"
      },
      "source": [
        ""
      ],
      "execution_count": null,
      "outputs": []
    }
  ]
}